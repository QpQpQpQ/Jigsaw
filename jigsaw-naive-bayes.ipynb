{
 "cells": [
  {
   "cell_type": "code",
   "execution_count": 1,
   "id": "70fc9fd1",
   "metadata": {
    "_cell_guid": "b1076dfc-b9ad-4769-8c92-a6c4dae69d19",
    "_uuid": "8f2839f25d086af736a60e9eeb907d3b93b6e0e5",
    "execution": {
     "iopub.execute_input": "2022-01-23T03:58:01.931684Z",
     "iopub.status.busy": "2022-01-23T03:58:01.929789Z",
     "iopub.status.idle": "2022-01-23T03:58:03.765071Z",
     "shell.execute_reply": "2022-01-23T03:58:03.763965Z",
     "shell.execute_reply.started": "2022-01-22T15:39:17.338243Z"
    },
    "papermill": {
     "duration": 1.878102,
     "end_time": "2022-01-23T03:58:03.765247",
     "exception": false,
     "start_time": "2022-01-23T03:58:01.887145",
     "status": "completed"
    },
    "tags": []
   },
   "outputs": [],
   "source": [
    "import pandas as pd\n",
    "import numpy as np\n",
    "from tqdm.auto import tqdm\n",
    "from bs4 import BeautifulSoup\n",
    "from collections import defaultdict\n",
    "from sklearn.feature_extraction.text import TfidfVectorizer, CountVectorizer\n",
    "import re \n",
    "import scipy\n",
    "from scipy import sparse\n",
    "from IPython.display import display\n",
    "from pprint import pprint\n",
    "from matplotlib import pyplot as plt \n",
    "import time\n",
    "import scipy.optimize as optimize\n",
    "import warnings\n",
    "warnings.filterwarnings(\"ignore\")\n",
    "from sklearn.model_selection import train_test_split\n",
    "from nltk.tokenize import word_tokenize\n",
    "from sklearn.linear_model import Ridge\n",
    "import zipfile\n",
    "import string\n",
    "import nltk\n",
    "import string\n",
    "from nltk.stem import WordNetLemmatizer \n",
    "from nltk.corpus import stopwords\n",
    "stop_words = set(stopwords.words(\"english\")) \n",
    "lemmatizer = WordNetLemmatizer() "
   ]
  },
  {
   "cell_type": "markdown",
   "id": "3ea82d4d",
   "metadata": {
    "papermill": {
     "duration": 0.037168,
     "end_time": "2022-01-23T03:58:03.840153",
     "exception": false,
     "start_time": "2022-01-23T03:58:03.802985",
     "status": "completed"
    },
    "tags": []
   },
   "source": [
    "data collecting"
   ]
  },
  {
   "cell_type": "code",
   "execution_count": 2,
   "id": "b0b24ada",
   "metadata": {
    "execution": {
     "iopub.execute_input": "2022-01-23T03:58:03.920704Z",
     "iopub.status.busy": "2022-01-23T03:58:03.920036Z",
     "iopub.status.idle": "2022-01-23T03:58:05.726347Z",
     "shell.execute_reply": "2022-01-23T03:58:05.726895Z",
     "shell.execute_reply.started": "2022-01-22T15:39:17.350409Z"
    },
    "papermill": {
     "duration": 1.84826,
     "end_time": "2022-01-23T03:58:05.727085",
     "exception": false,
     "start_time": "2022-01-23T03:58:03.878825",
     "status": "completed"
    },
    "tags": []
   },
   "outputs": [],
   "source": [
    "train_csv_zip_path = '../input/jigsaw-toxic-comment-classification-challenge/train.csv.zip'\n",
    "with zipfile.ZipFile(train_csv_zip_path) as zf:\n",
    "    zf.extractall('./')\n"
   ]
  },
  {
   "cell_type": "code",
   "execution_count": 3,
   "id": "99b1c0bc",
   "metadata": {
    "execution": {
     "iopub.execute_input": "2022-01-23T03:58:05.806208Z",
     "iopub.status.busy": "2022-01-23T03:58:05.804358Z",
     "iopub.status.idle": "2022-01-23T03:58:05.808051Z",
     "shell.execute_reply": "2022-01-23T03:58:05.808523Z",
     "shell.execute_reply.started": "2022-01-22T15:39:18.075089Z"
    },
    "papermill": {
     "duration": 0.044751,
     "end_time": "2022-01-23T03:58:05.808735",
     "exception": false,
     "start_time": "2022-01-23T03:58:05.763984",
     "status": "completed"
    },
    "tags": []
   },
   "outputs": [],
   "source": [
    "train_csv_path = './train.csv'\n",
    "sample_sub_path = '../input/jigsaw-toxic-severity-rating/sample_submission.csv'\n",
    "comments_to_score_path = '../input/jigsaw-toxic-severity-rating/comments_to_score.csv'\n",
    "val_path='../input/jigsaw-toxic-severity-rating/validation_data.csv'"
   ]
  },
  {
   "cell_type": "code",
   "execution_count": 4,
   "id": "514f3d39",
   "metadata": {
    "execution": {
     "iopub.execute_input": "2022-01-23T03:58:05.885595Z",
     "iopub.status.busy": "2022-01-23T03:58:05.884966Z",
     "iopub.status.idle": "2022-01-23T03:58:07.043510Z",
     "shell.execute_reply": "2022-01-23T03:58:07.044050Z",
     "shell.execute_reply.started": "2022-01-22T15:39:18.080748Z"
    },
    "papermill": {
     "duration": 1.198748,
     "end_time": "2022-01-23T03:58:07.044237",
     "exception": false,
     "start_time": "2022-01-23T03:58:05.845489",
     "status": "completed"
    },
    "tags": []
   },
   "outputs": [],
   "source": [
    "df_train = pd.read_csv(\"./train.csv\")\n",
    "df_sub = pd.read_csv(\"../input/jigsaw-toxic-severity-rating/comments_to_score.csv\")"
   ]
  },
  {
   "cell_type": "code",
   "execution_count": 5,
   "id": "ad7d1b88",
   "metadata": {
    "execution": {
     "iopub.execute_input": "2022-01-23T03:58:07.121832Z",
     "iopub.status.busy": "2022-01-23T03:58:07.121204Z",
     "iopub.status.idle": "2022-01-23T03:58:07.142289Z",
     "shell.execute_reply": "2022-01-23T03:58:07.142778Z",
     "shell.execute_reply.started": "2022-01-22T15:39:19.15702Z"
    },
    "papermill": {
     "duration": 0.061571,
     "end_time": "2022-01-23T03:58:07.142945",
     "exception": false,
     "start_time": "2022-01-23T03:58:07.081374",
     "status": "completed"
    },
    "tags": []
   },
   "outputs": [
    {
     "data": {
      "text/html": [
       "<div>\n",
       "<style scoped>\n",
       "    .dataframe tbody tr th:only-of-type {\n",
       "        vertical-align: middle;\n",
       "    }\n",
       "\n",
       "    .dataframe tbody tr th {\n",
       "        vertical-align: top;\n",
       "    }\n",
       "\n",
       "    .dataframe thead th {\n",
       "        text-align: right;\n",
       "    }\n",
       "</style>\n",
       "<table border=\"1\" class=\"dataframe\">\n",
       "  <thead>\n",
       "    <tr style=\"text-align: right;\">\n",
       "      <th></th>\n",
       "      <th>id</th>\n",
       "      <th>comment_text</th>\n",
       "      <th>toxic</th>\n",
       "      <th>severe_toxic</th>\n",
       "      <th>obscene</th>\n",
       "      <th>threat</th>\n",
       "      <th>insult</th>\n",
       "      <th>identity_hate</th>\n",
       "    </tr>\n",
       "  </thead>\n",
       "  <tbody>\n",
       "    <tr>\n",
       "      <th>0</th>\n",
       "      <td>0000997932d777bf</td>\n",
       "      <td>Explanation\\nWhy the edits made under my usern...</td>\n",
       "      <td>0</td>\n",
       "      <td>0</td>\n",
       "      <td>0</td>\n",
       "      <td>0</td>\n",
       "      <td>0</td>\n",
       "      <td>0</td>\n",
       "    </tr>\n",
       "    <tr>\n",
       "      <th>1</th>\n",
       "      <td>000103f0d9cfb60f</td>\n",
       "      <td>D'aww! He matches this background colour I'm s...</td>\n",
       "      <td>0</td>\n",
       "      <td>0</td>\n",
       "      <td>0</td>\n",
       "      <td>0</td>\n",
       "      <td>0</td>\n",
       "      <td>0</td>\n",
       "    </tr>\n",
       "    <tr>\n",
       "      <th>2</th>\n",
       "      <td>000113f07ec002fd</td>\n",
       "      <td>Hey man, I'm really not trying to edit war. It...</td>\n",
       "      <td>0</td>\n",
       "      <td>0</td>\n",
       "      <td>0</td>\n",
       "      <td>0</td>\n",
       "      <td>0</td>\n",
       "      <td>0</td>\n",
       "    </tr>\n",
       "    <tr>\n",
       "      <th>3</th>\n",
       "      <td>0001b41b1c6bb37e</td>\n",
       "      <td>\"\\nMore\\nI can't make any real suggestions on ...</td>\n",
       "      <td>0</td>\n",
       "      <td>0</td>\n",
       "      <td>0</td>\n",
       "      <td>0</td>\n",
       "      <td>0</td>\n",
       "      <td>0</td>\n",
       "    </tr>\n",
       "    <tr>\n",
       "      <th>4</th>\n",
       "      <td>0001d958c54c6e35</td>\n",
       "      <td>You, sir, are my hero. Any chance you remember...</td>\n",
       "      <td>0</td>\n",
       "      <td>0</td>\n",
       "      <td>0</td>\n",
       "      <td>0</td>\n",
       "      <td>0</td>\n",
       "      <td>0</td>\n",
       "    </tr>\n",
       "  </tbody>\n",
       "</table>\n",
       "</div>"
      ],
      "text/plain": [
       "                 id                                       comment_text  toxic  \\\n",
       "0  0000997932d777bf  Explanation\\nWhy the edits made under my usern...      0   \n",
       "1  000103f0d9cfb60f  D'aww! He matches this background colour I'm s...      0   \n",
       "2  000113f07ec002fd  Hey man, I'm really not trying to edit war. It...      0   \n",
       "3  0001b41b1c6bb37e  \"\\nMore\\nI can't make any real suggestions on ...      0   \n",
       "4  0001d958c54c6e35  You, sir, are my hero. Any chance you remember...      0   \n",
       "\n",
       "   severe_toxic  obscene  threat  insult  identity_hate  \n",
       "0             0        0       0       0              0  \n",
       "1             0        0       0       0              0  \n",
       "2             0        0       0       0              0  \n",
       "3             0        0       0       0              0  \n",
       "4             0        0       0       0              0  "
      ]
     },
     "execution_count": 5,
     "metadata": {},
     "output_type": "execute_result"
    }
   ],
   "source": [
    "df_train.head()"
   ]
  },
  {
   "cell_type": "code",
   "execution_count": 6,
   "id": "4c8c1b60",
   "metadata": {
    "execution": {
     "iopub.execute_input": "2022-01-23T03:58:07.226626Z",
     "iopub.status.busy": "2022-01-23T03:58:07.226032Z",
     "iopub.status.idle": "2022-01-23T03:58:07.229725Z",
     "shell.execute_reply": "2022-01-23T03:58:07.229142Z",
     "shell.execute_reply.started": "2022-01-22T15:39:19.170514Z"
    },
    "papermill": {
     "duration": 0.049218,
     "end_time": "2022-01-23T03:58:07.229864",
     "exception": false,
     "start_time": "2022-01-23T03:58:07.180646",
     "status": "completed"
    },
    "tags": []
   },
   "outputs": [
    {
     "data": {
      "text/html": [
       "<div>\n",
       "<style scoped>\n",
       "    .dataframe tbody tr th:only-of-type {\n",
       "        vertical-align: middle;\n",
       "    }\n",
       "\n",
       "    .dataframe tbody tr th {\n",
       "        vertical-align: top;\n",
       "    }\n",
       "\n",
       "    .dataframe thead th {\n",
       "        text-align: right;\n",
       "    }\n",
       "</style>\n",
       "<table border=\"1\" class=\"dataframe\">\n",
       "  <thead>\n",
       "    <tr style=\"text-align: right;\">\n",
       "      <th></th>\n",
       "      <th>comment_id</th>\n",
       "      <th>text</th>\n",
       "    </tr>\n",
       "  </thead>\n",
       "  <tbody>\n",
       "    <tr>\n",
       "      <th>0</th>\n",
       "      <td>114890</td>\n",
       "      <td>\"\\n \\n\\nGjalexei, you asked about whether ther...</td>\n",
       "    </tr>\n",
       "    <tr>\n",
       "      <th>1</th>\n",
       "      <td>732895</td>\n",
       "      <td>Looks like be have an abuser , can you please ...</td>\n",
       "    </tr>\n",
       "    <tr>\n",
       "      <th>2</th>\n",
       "      <td>1139051</td>\n",
       "      <td>I confess to having complete (and apparently b...</td>\n",
       "    </tr>\n",
       "    <tr>\n",
       "      <th>3</th>\n",
       "      <td>1434512</td>\n",
       "      <td>\"\\n\\nFreud's ideas are certainly much discusse...</td>\n",
       "    </tr>\n",
       "    <tr>\n",
       "      <th>4</th>\n",
       "      <td>2084821</td>\n",
       "      <td>It is not just you. This is a laundry list of ...</td>\n",
       "    </tr>\n",
       "  </tbody>\n",
       "</table>\n",
       "</div>"
      ],
      "text/plain": [
       "   comment_id                                               text\n",
       "0      114890  \"\\n \\n\\nGjalexei, you asked about whether ther...\n",
       "1      732895  Looks like be have an abuser , can you please ...\n",
       "2     1139051  I confess to having complete (and apparently b...\n",
       "3     1434512  \"\\n\\nFreud's ideas are certainly much discusse...\n",
       "4     2084821  It is not just you. This is a laundry list of ..."
      ]
     },
     "execution_count": 6,
     "metadata": {},
     "output_type": "execute_result"
    }
   ],
   "source": [
    "df_sub.head()"
   ]
  },
  {
   "cell_type": "code",
   "execution_count": 7,
   "id": "f98a4b3a",
   "metadata": {
    "execution": {
     "iopub.execute_input": "2022-01-23T03:58:07.314866Z",
     "iopub.status.busy": "2022-01-23T03:58:07.314214Z",
     "iopub.status.idle": "2022-01-23T03:58:07.377915Z",
     "shell.execute_reply": "2022-01-23T03:58:07.376877Z",
     "shell.execute_reply.started": "2022-01-22T15:39:19.183243Z"
    },
    "papermill": {
     "duration": 0.11055,
     "end_time": "2022-01-23T03:58:07.378082",
     "exception": false,
     "start_time": "2022-01-23T03:58:07.267532",
     "status": "completed"
    },
    "tags": []
   },
   "outputs": [
    {
     "name": "stdout",
     "output_type": "stream",
     "text": [
      ".................toxic..................\n"
     ]
    },
    {
     "data": {
      "text/html": [
       "<div>\n",
       "<style scoped>\n",
       "    .dataframe tbody tr th:only-of-type {\n",
       "        vertical-align: middle;\n",
       "    }\n",
       "\n",
       "    .dataframe tbody tr th {\n",
       "        vertical-align: top;\n",
       "    }\n",
       "\n",
       "    .dataframe thead th {\n",
       "        text-align: right;\n",
       "    }\n",
       "</style>\n",
       "<table border=\"1\" class=\"dataframe\">\n",
       "  <thead>\n",
       "    <tr style=\"text-align: right;\">\n",
       "      <th></th>\n",
       "      <th>comment_text</th>\n",
       "      <th>toxic</th>\n",
       "    </tr>\n",
       "  </thead>\n",
       "  <tbody>\n",
       "    <tr>\n",
       "      <th>4495</th>\n",
       "      <td>YOU HAVE BEEN BANNED BY WIKZILLA YOU TROLLISH ...</td>\n",
       "      <td>1</td>\n",
       "    </tr>\n",
       "    <tr>\n",
       "      <th>83752</th>\n",
       "      <td>BITCH DON'T WARN ME EVER AGAIN\\n\\nBITCH</td>\n",
       "      <td>1</td>\n",
       "    </tr>\n",
       "  </tbody>\n",
       "</table>\n",
       "</div>"
      ],
      "text/plain": [
       "                                            comment_text  toxic\n",
       "4495   YOU HAVE BEEN BANNED BY WIKZILLA YOU TROLLISH ...      1\n",
       "83752            BITCH DON'T WARN ME EVER AGAIN\\n\\nBITCH      1"
      ]
     },
     "metadata": {},
     "output_type": "display_data"
    },
    {
     "name": "stdout",
     "output_type": "stream",
     "text": [
      "..............severe_toxic..............\n"
     ]
    },
    {
     "data": {
      "text/html": [
       "<div>\n",
       "<style scoped>\n",
       "    .dataframe tbody tr th:only-of-type {\n",
       "        vertical-align: middle;\n",
       "    }\n",
       "\n",
       "    .dataframe tbody tr th {\n",
       "        vertical-align: top;\n",
       "    }\n",
       "\n",
       "    .dataframe thead th {\n",
       "        text-align: right;\n",
       "    }\n",
       "</style>\n",
       "<table border=\"1\" class=\"dataframe\">\n",
       "  <thead>\n",
       "    <tr style=\"text-align: right;\">\n",
       "      <th></th>\n",
       "      <th>comment_text</th>\n",
       "      <th>severe_toxic</th>\n",
       "    </tr>\n",
       "  </thead>\n",
       "  <tbody>\n",
       "    <tr>\n",
       "      <th>12861</th>\n",
       "      <td>NOT REALLY, GO AHEAD AND FUCK OFF BITCH!!!</td>\n",
       "      <td>1</td>\n",
       "    </tr>\n",
       "    <tr>\n",
       "      <th>121683</th>\n",
       "      <td>OH SHUT UP YOU FUCCIN ASSHOLE! (  )</td>\n",
       "      <td>1</td>\n",
       "    </tr>\n",
       "  </tbody>\n",
       "</table>\n",
       "</div>"
      ],
      "text/plain": [
       "                                      comment_text  severe_toxic\n",
       "12861   NOT REALLY, GO AHEAD AND FUCK OFF BITCH!!!             1\n",
       "121683         OH SHUT UP YOU FUCCIN ASSHOLE! (  )             1"
      ]
     },
     "metadata": {},
     "output_type": "display_data"
    },
    {
     "name": "stdout",
     "output_type": "stream",
     "text": [
      "................obscene.................\n"
     ]
    },
    {
     "data": {
      "text/html": [
       "<div>\n",
       "<style scoped>\n",
       "    .dataframe tbody tr th:only-of-type {\n",
       "        vertical-align: middle;\n",
       "    }\n",
       "\n",
       "    .dataframe tbody tr th {\n",
       "        vertical-align: top;\n",
       "    }\n",
       "\n",
       "    .dataframe thead th {\n",
       "        text-align: right;\n",
       "    }\n",
       "</style>\n",
       "<table border=\"1\" class=\"dataframe\">\n",
       "  <thead>\n",
       "    <tr style=\"text-align: right;\">\n",
       "      <th></th>\n",
       "      <th>comment_text</th>\n",
       "      <th>obscene</th>\n",
       "    </tr>\n",
       "  </thead>\n",
       "  <tbody>\n",
       "    <tr>\n",
       "      <th>37322</th>\n",
       "      <td>Don't Threaten Me!\\nYou are in VIOLATION of se...</td>\n",
       "      <td>1</td>\n",
       "    </tr>\n",
       "    <tr>\n",
       "      <th>28750</th>\n",
       "      <td>You're nothing but a cumguzzling queer. The on...</td>\n",
       "      <td>1</td>\n",
       "    </tr>\n",
       "  </tbody>\n",
       "</table>\n",
       "</div>"
      ],
      "text/plain": [
       "                                            comment_text  obscene\n",
       "37322  Don't Threaten Me!\\nYou are in VIOLATION of se...        1\n",
       "28750  You're nothing but a cumguzzling queer. The on...        1"
      ]
     },
     "metadata": {},
     "output_type": "display_data"
    },
    {
     "name": "stdout",
     "output_type": "stream",
     "text": [
      ".................threat.................\n"
     ]
    },
    {
     "data": {
      "text/html": [
       "<div>\n",
       "<style scoped>\n",
       "    .dataframe tbody tr th:only-of-type {\n",
       "        vertical-align: middle;\n",
       "    }\n",
       "\n",
       "    .dataframe tbody tr th {\n",
       "        vertical-align: top;\n",
       "    }\n",
       "\n",
       "    .dataframe thead th {\n",
       "        text-align: right;\n",
       "    }\n",
       "</style>\n",
       "<table border=\"1\" class=\"dataframe\">\n",
       "  <thead>\n",
       "    <tr style=\"text-align: right;\">\n",
       "      <th></th>\n",
       "      <th>comment_text</th>\n",
       "      <th>threat</th>\n",
       "    </tr>\n",
       "  </thead>\n",
       "  <tbody>\n",
       "    <tr>\n",
       "      <th>17580</th>\n",
       "      <td>You Hurt My Feelings For The Last Time, Gladys...</td>\n",
       "      <td>1</td>\n",
       "    </tr>\n",
       "    <tr>\n",
       "      <th>60688</th>\n",
       "      <td>IM GOING TO KILL YOU \\n\\nI JUST WANT YOU TO KN...</td>\n",
       "      <td>1</td>\n",
       "    </tr>\n",
       "  </tbody>\n",
       "</table>\n",
       "</div>"
      ],
      "text/plain": [
       "                                            comment_text  threat\n",
       "17580  You Hurt My Feelings For The Last Time, Gladys...       1\n",
       "60688  IM GOING TO KILL YOU \\n\\nI JUST WANT YOU TO KN...       1"
      ]
     },
     "metadata": {},
     "output_type": "display_data"
    },
    {
     "name": "stdout",
     "output_type": "stream",
     "text": [
      ".................insult.................\n"
     ]
    },
    {
     "data": {
      "text/html": [
       "<div>\n",
       "<style scoped>\n",
       "    .dataframe tbody tr th:only-of-type {\n",
       "        vertical-align: middle;\n",
       "    }\n",
       "\n",
       "    .dataframe tbody tr th {\n",
       "        vertical-align: top;\n",
       "    }\n",
       "\n",
       "    .dataframe thead th {\n",
       "        text-align: right;\n",
       "    }\n",
       "</style>\n",
       "<table border=\"1\" class=\"dataframe\">\n",
       "  <thead>\n",
       "    <tr style=\"text-align: right;\">\n",
       "      <th></th>\n",
       "      <th>comment_text</th>\n",
       "      <th>insult</th>\n",
       "    </tr>\n",
       "  </thead>\n",
       "  <tbody>\n",
       "    <tr>\n",
       "      <th>125267</th>\n",
       "      <td>your a dickhead your a dickhead your a dickhea...</td>\n",
       "      <td>1</td>\n",
       "    </tr>\n",
       "    <tr>\n",
       "      <th>48902</th>\n",
       "      <td>your edits are wrong so stop this stupidity mo...</td>\n",
       "      <td>1</td>\n",
       "    </tr>\n",
       "  </tbody>\n",
       "</table>\n",
       "</div>"
      ],
      "text/plain": [
       "                                             comment_text  insult\n",
       "125267  your a dickhead your a dickhead your a dickhea...       1\n",
       "48902   your edits are wrong so stop this stupidity mo...       1"
      ]
     },
     "metadata": {},
     "output_type": "display_data"
    },
    {
     "name": "stdout",
     "output_type": "stream",
     "text": [
      ".............identity_hate..............\n"
     ]
    },
    {
     "data": {
      "text/html": [
       "<div>\n",
       "<style scoped>\n",
       "    .dataframe tbody tr th:only-of-type {\n",
       "        vertical-align: middle;\n",
       "    }\n",
       "\n",
       "    .dataframe tbody tr th {\n",
       "        vertical-align: top;\n",
       "    }\n",
       "\n",
       "    .dataframe thead th {\n",
       "        text-align: right;\n",
       "    }\n",
       "</style>\n",
       "<table border=\"1\" class=\"dataframe\">\n",
       "  <thead>\n",
       "    <tr style=\"text-align: right;\">\n",
       "      <th></th>\n",
       "      <th>comment_text</th>\n",
       "      <th>identity_hate</th>\n",
       "    </tr>\n",
       "  </thead>\n",
       "  <tbody>\n",
       "    <tr>\n",
       "      <th>87920</th>\n",
       "      <td>Say what? \\n\\nBitch, are you for real?  Mother...</td>\n",
       "      <td>1</td>\n",
       "    </tr>\n",
       "    <tr>\n",
       "      <th>58779</th>\n",
       "      <td>hey punk dont be deleting my stuff, you know n...</td>\n",
       "      <td>1</td>\n",
       "    </tr>\n",
       "  </tbody>\n",
       "</table>\n",
       "</div>"
      ],
      "text/plain": [
       "                                            comment_text  identity_hate\n",
       "87920  Say what? \\n\\nBitch, are you for real?  Mother...              1\n",
       "58779  hey punk dont be deleting my stuff, you know n...              1"
      ]
     },
     "metadata": {},
     "output_type": "display_data"
    }
   ],
   "source": [
    "for col in ['toxic','severe_toxic','obscene','threat','insult','identity_hate']:\n",
    "#     print(f'------------------------{col}-----------------------')\n",
    "    print(col.center(40, '.'))\n",
    "    display(df_train.loc[df_train[col]==1,['comment_text',col]].sample(2))"
   ]
  },
  {
   "cell_type": "markdown",
   "id": "94a993ed",
   "metadata": {
    "papermill": {
     "duration": 0.043236,
     "end_time": "2022-01-23T03:58:07.465887",
     "exception": false,
     "start_time": "2022-01-23T03:58:07.422651",
     "status": "completed"
    },
    "tags": []
   },
   "source": [
    "data preprocessing\n",
    "\n",
    "follow the instructions: https://medium.com/analytics-vidhya/text-cleaning-in-natural-language-processing-nlp-bea2c27035a6\n",
    "\n",
    "Data Preprocessing must include the follows:\n",
    "\n",
    "Removing HTML characters,ASCII\n",
    "\n",
    "Convert Text to Lowercase\n",
    "\n",
    "Remove Punctuation's\n",
    "\n",
    "Remove Stop words\n",
    "\n",
    "Tokenization\n",
    "\n",
    "Stemming vs Lemmatization\n"
   ]
  },
  {
   "cell_type": "code",
   "execution_count": 8,
   "id": "c5a9f0b4",
   "metadata": {
    "execution": {
     "iopub.execute_input": "2022-01-23T03:58:07.562027Z",
     "iopub.status.busy": "2022-01-23T03:58:07.560961Z",
     "iopub.status.idle": "2022-01-23T03:58:07.563035Z",
     "shell.execute_reply": "2022-01-23T03:58:07.563478Z",
     "shell.execute_reply.started": "2022-01-22T15:39:19.243377Z"
    },
    "papermill": {
     "duration": 0.054587,
     "end_time": "2022-01-23T03:58:07.563682",
     "exception": false,
     "start_time": "2022-01-23T03:58:07.509095",
     "status": "completed"
    },
    "tags": []
   },
   "outputs": [],
   "source": [
    "def clean_text(text):\n",
    "#replace the html characters with \" \"\n",
    "    text=re.sub('<.*?>', ' ', text)  \n",
    "#remove the punctuations\n",
    "    text = text.translate(str.maketrans(' ',' ',string.punctuation))\n",
    "#consider only alphabets and numerics\n",
    "    text = re.sub('[^a-zA-Z]',' ',text)  \n",
    "#replace newline with space\n",
    "    text = re.sub(\"\\n\",\" \",text)\n",
    "#convert to lower case\n",
    "    text = text.lower()\n",
    "#split and join the words\n",
    "    text=' '.join(text.split())\n",
    "    return text\n",
    "\n",
    "def stopwords(input_text, stop_words):\n",
    "    word_tokens = word_tokenize(input_text) \n",
    "    output_text = [w for w in word_tokens if not w in stop_words]\n",
    "    output = [] \n",
    "    for w in word_tokens: \n",
    "        if w not in stop_words:\n",
    "            output.append(w)\n",
    "            \n",
    "    text = ' '.join(output)\n",
    "    return text\n",
    "\n"
   ]
  },
  {
   "cell_type": "code",
   "execution_count": 9,
   "id": "87b72c47",
   "metadata": {
    "execution": {
     "iopub.execute_input": "2022-01-23T03:58:07.657060Z",
     "iopub.status.busy": "2022-01-23T03:58:07.656309Z",
     "iopub.status.idle": "2022-01-23T04:00:18.534180Z",
     "shell.execute_reply": "2022-01-23T04:00:18.534708Z",
     "shell.execute_reply.started": "2022-01-22T15:39:19.253225Z"
    },
    "papermill": {
     "duration": 130.928157,
     "end_time": "2022-01-23T04:00:18.534890",
     "exception": false,
     "start_time": "2022-01-23T03:58:07.606733",
     "status": "completed"
    },
    "tags": []
   },
   "outputs": [
    {
     "data": {
      "text/html": [
       "<div>\n",
       "<style scoped>\n",
       "    .dataframe tbody tr th:only-of-type {\n",
       "        vertical-align: middle;\n",
       "    }\n",
       "\n",
       "    .dataframe tbody tr th {\n",
       "        vertical-align: top;\n",
       "    }\n",
       "\n",
       "    .dataframe thead th {\n",
       "        text-align: right;\n",
       "    }\n",
       "</style>\n",
       "<table border=\"1\" class=\"dataframe\">\n",
       "  <thead>\n",
       "    <tr style=\"text-align: right;\">\n",
       "      <th></th>\n",
       "      <th>id</th>\n",
       "      <th>comment_text</th>\n",
       "      <th>toxic</th>\n",
       "      <th>severe_toxic</th>\n",
       "      <th>obscene</th>\n",
       "      <th>threat</th>\n",
       "      <th>insult</th>\n",
       "      <th>identity_hate</th>\n",
       "    </tr>\n",
       "  </thead>\n",
       "  <tbody>\n",
       "    <tr>\n",
       "      <th>0</th>\n",
       "      <td>0000997932d777bf</td>\n",
       "      <td>explanation edits made username hardcore metal...</td>\n",
       "      <td>0</td>\n",
       "      <td>0</td>\n",
       "      <td>0</td>\n",
       "      <td>0</td>\n",
       "      <td>0</td>\n",
       "      <td>0</td>\n",
       "    </tr>\n",
       "    <tr>\n",
       "      <th>1</th>\n",
       "      <td>000103f0d9cfb60f</td>\n",
       "      <td>daww matches background colour im seemingly st...</td>\n",
       "      <td>0</td>\n",
       "      <td>0</td>\n",
       "      <td>0</td>\n",
       "      <td>0</td>\n",
       "      <td>0</td>\n",
       "      <td>0</td>\n",
       "    </tr>\n",
       "    <tr>\n",
       "      <th>2</th>\n",
       "      <td>000113f07ec002fd</td>\n",
       "      <td>hey man im really trying edit war guy constant...</td>\n",
       "      <td>0</td>\n",
       "      <td>0</td>\n",
       "      <td>0</td>\n",
       "      <td>0</td>\n",
       "      <td>0</td>\n",
       "      <td>0</td>\n",
       "    </tr>\n",
       "    <tr>\n",
       "      <th>3</th>\n",
       "      <td>0001b41b1c6bb37e</td>\n",
       "      <td>cant make real suggestions improvement wondere...</td>\n",
       "      <td>0</td>\n",
       "      <td>0</td>\n",
       "      <td>0</td>\n",
       "      <td>0</td>\n",
       "      <td>0</td>\n",
       "      <td>0</td>\n",
       "    </tr>\n",
       "    <tr>\n",
       "      <th>4</th>\n",
       "      <td>0001d958c54c6e35</td>\n",
       "      <td>sir hero chance remember page thats</td>\n",
       "      <td>0</td>\n",
       "      <td>0</td>\n",
       "      <td>0</td>\n",
       "      <td>0</td>\n",
       "      <td>0</td>\n",
       "      <td>0</td>\n",
       "    </tr>\n",
       "  </tbody>\n",
       "</table>\n",
       "</div>"
      ],
      "text/plain": [
       "                 id                                       comment_text  toxic  \\\n",
       "0  0000997932d777bf  explanation edits made username hardcore metal...      0   \n",
       "1  000103f0d9cfb60f  daww matches background colour im seemingly st...      0   \n",
       "2  000113f07ec002fd  hey man im really trying edit war guy constant...      0   \n",
       "3  0001b41b1c6bb37e  cant make real suggestions improvement wondere...      0   \n",
       "4  0001d958c54c6e35                sir hero chance remember page thats      0   \n",
       "\n",
       "   severe_toxic  obscene  threat  insult  identity_hate  \n",
       "0             0        0       0       0              0  \n",
       "1             0        0       0       0              0  \n",
       "2             0        0       0       0              0  \n",
       "3             0        0       0       0              0  \n",
       "4             0        0       0       0              0  "
      ]
     },
     "execution_count": 9,
     "metadata": {},
     "output_type": "execute_result"
    }
   ],
   "source": [
    "unrelevant_words = ['wiki','wikipedia','page']\n",
    "#Clean step 1, 2 and 3\n",
    "df_train['comment_text'] = df_train['comment_text'].apply(lambda x: ''.join([w for w in clean_text(x) if w not in unrelevant_words]))\n",
    "\n",
    "#Clean Step 4\n",
    "df_train['comment_text'] = df_train['comment_text'].apply(lambda x: ''.join([w for w in stopwords(x,stop_words)]))\n",
    "\n",
    "#Clean Step 5\n",
    "df_train['comment_text'] = df_train['comment_text'].apply(lambda x: ''.join([w for w in lemmatizer.lemmatize(x)]))\n",
    "\n",
    "df_train.head()"
   ]
  },
  {
   "cell_type": "markdown",
   "id": "320f8471",
   "metadata": {
    "papermill": {
     "duration": 0.043172,
     "end_time": "2022-01-23T04:00:18.621444",
     "exception": false,
     "start_time": "2022-01-23T04:00:18.578272",
     "status": "completed"
    },
    "tags": []
   },
   "source": [
    "reference:\n",
    "\n",
    "https://medium.com/analytics-vidhya/text-cleaning-in-natural-language-processing-nlp-bea2c27035a6"
   ]
  },
  {
   "cell_type": "code",
   "execution_count": 10,
   "id": "54bca42c",
   "metadata": {
    "execution": {
     "iopub.execute_input": "2022-01-23T04:00:18.714534Z",
     "iopub.status.busy": "2022-01-23T04:00:18.713879Z",
     "iopub.status.idle": "2022-01-23T04:00:18.771454Z",
     "shell.execute_reply": "2022-01-23T04:00:18.770973Z",
     "shell.execute_reply.started": "2022-01-22T15:41:27.077256Z"
    },
    "papermill": {
     "duration": 0.106606,
     "end_time": "2022-01-23T04:00:18.771623",
     "exception": false,
     "start_time": "2022-01-23T04:00:18.665017",
     "status": "completed"
    },
    "tags": []
   },
   "outputs": [
    {
     "name": "stdout",
     "output_type": "stream",
     "text": [
      ".................toxic..................\n"
     ]
    },
    {
     "data": {
      "text/html": [
       "<div>\n",
       "<style scoped>\n",
       "    .dataframe tbody tr th:only-of-type {\n",
       "        vertical-align: middle;\n",
       "    }\n",
       "\n",
       "    .dataframe tbody tr th {\n",
       "        vertical-align: top;\n",
       "    }\n",
       "\n",
       "    .dataframe thead th {\n",
       "        text-align: right;\n",
       "    }\n",
       "</style>\n",
       "<table border=\"1\" class=\"dataframe\">\n",
       "  <thead>\n",
       "    <tr style=\"text-align: right;\">\n",
       "      <th></th>\n",
       "      <th>comment_text</th>\n",
       "      <th>toxic</th>\n",
       "    </tr>\n",
       "  </thead>\n",
       "  <tbody>\n",
       "    <tr>\n",
       "      <th>82047</th>\n",
       "      <td>show figure rub two brain cells together lose ...</td>\n",
       "      <td>1</td>\n",
       "    </tr>\n",
       "    <tr>\n",
       "      <th>12963</th>\n",
       "      <td>vandalism yo broseph vandalized userfanofranzs...</td>\n",
       "      <td>1</td>\n",
       "    </tr>\n",
       "  </tbody>\n",
       "</table>\n",
       "</div>"
      ],
      "text/plain": [
       "                                            comment_text  toxic\n",
       "82047  show figure rub two brain cells together lose ...      1\n",
       "12963  vandalism yo broseph vandalized userfanofranzs...      1"
      ]
     },
     "metadata": {},
     "output_type": "display_data"
    },
    {
     "name": "stdout",
     "output_type": "stream",
     "text": [
      "..............severe_toxic..............\n"
     ]
    },
    {
     "data": {
      "text/html": [
       "<div>\n",
       "<style scoped>\n",
       "    .dataframe tbody tr th:only-of-type {\n",
       "        vertical-align: middle;\n",
       "    }\n",
       "\n",
       "    .dataframe tbody tr th {\n",
       "        vertical-align: top;\n",
       "    }\n",
       "\n",
       "    .dataframe thead th {\n",
       "        text-align: right;\n",
       "    }\n",
       "</style>\n",
       "<table border=\"1\" class=\"dataframe\">\n",
       "  <thead>\n",
       "    <tr style=\"text-align: right;\">\n",
       "      <th></th>\n",
       "      <th>comment_text</th>\n",
       "      <th>severe_toxic</th>\n",
       "    </tr>\n",
       "  </thead>\n",
       "  <tbody>\n",
       "    <tr>\n",
       "      <th>66354</th>\n",
       "      <td>go fuck nigger</td>\n",
       "      <td>1</td>\n",
       "    </tr>\n",
       "    <tr>\n",
       "      <th>73821</th>\n",
       "      <td>shut asswipe dont care ill decapitate mother s...</td>\n",
       "      <td>1</td>\n",
       "    </tr>\n",
       "  </tbody>\n",
       "</table>\n",
       "</div>"
      ],
      "text/plain": [
       "                                            comment_text  severe_toxic\n",
       "66354                                     go fuck nigger             1\n",
       "73821  shut asswipe dont care ill decapitate mother s...             1"
      ]
     },
     "metadata": {},
     "output_type": "display_data"
    },
    {
     "name": "stdout",
     "output_type": "stream",
     "text": [
      "................obscene.................\n"
     ]
    },
    {
     "data": {
      "text/html": [
       "<div>\n",
       "<style scoped>\n",
       "    .dataframe tbody tr th:only-of-type {\n",
       "        vertical-align: middle;\n",
       "    }\n",
       "\n",
       "    .dataframe tbody tr th {\n",
       "        vertical-align: top;\n",
       "    }\n",
       "\n",
       "    .dataframe thead th {\n",
       "        text-align: right;\n",
       "    }\n",
       "</style>\n",
       "<table border=\"1\" class=\"dataframe\">\n",
       "  <thead>\n",
       "    <tr style=\"text-align: right;\">\n",
       "      <th></th>\n",
       "      <th>comment_text</th>\n",
       "      <th>obscene</th>\n",
       "    </tr>\n",
       "  </thead>\n",
       "  <tbody>\n",
       "    <tr>\n",
       "      <th>110760</th>\n",
       "      <td>kwwwwwww u dont believed called bad youp haha ...</td>\n",
       "      <td>1</td>\n",
       "    </tr>\n",
       "    <tr>\n",
       "      <th>116313</th>\n",
       "      <td>blow asshole</td>\n",
       "      <td>1</td>\n",
       "    </tr>\n",
       "  </tbody>\n",
       "</table>\n",
       "</div>"
      ],
      "text/plain": [
       "                                             comment_text  obscene\n",
       "110760  kwwwwwww u dont believed called bad youp haha ...        1\n",
       "116313                                       blow asshole        1"
      ]
     },
     "metadata": {},
     "output_type": "display_data"
    },
    {
     "name": "stdout",
     "output_type": "stream",
     "text": [
      ".................threat.................\n"
     ]
    },
    {
     "data": {
      "text/html": [
       "<div>\n",
       "<style scoped>\n",
       "    .dataframe tbody tr th:only-of-type {\n",
       "        vertical-align: middle;\n",
       "    }\n",
       "\n",
       "    .dataframe tbody tr th {\n",
       "        vertical-align: top;\n",
       "    }\n",
       "\n",
       "    .dataframe thead th {\n",
       "        text-align: right;\n",
       "    }\n",
       "</style>\n",
       "<table border=\"1\" class=\"dataframe\">\n",
       "  <thead>\n",
       "    <tr style=\"text-align: right;\">\n",
       "      <th></th>\n",
       "      <th>comment_text</th>\n",
       "      <th>threat</th>\n",
       "    </tr>\n",
       "  </thead>\n",
       "  <tbody>\n",
       "    <tr>\n",
       "      <th>130726</th>\n",
       "      <td>prat revenge sweet hahahahahaahahahahahahahaha...</td>\n",
       "      <td>1</td>\n",
       "    </tr>\n",
       "    <tr>\n",
       "      <th>5397</th>\n",
       "      <td>wtf deleting maashel bad things happen</td>\n",
       "      <td>1</td>\n",
       "    </tr>\n",
       "  </tbody>\n",
       "</table>\n",
       "</div>"
      ],
      "text/plain": [
       "                                             comment_text  threat\n",
       "130726  prat revenge sweet hahahahahaahahahahahahahaha...       1\n",
       "5397               wtf deleting maashel bad things happen       1"
      ]
     },
     "metadata": {},
     "output_type": "display_data"
    },
    {
     "name": "stdout",
     "output_type": "stream",
     "text": [
      ".................insult.................\n"
     ]
    },
    {
     "data": {
      "text/html": [
       "<div>\n",
       "<style scoped>\n",
       "    .dataframe tbody tr th:only-of-type {\n",
       "        vertical-align: middle;\n",
       "    }\n",
       "\n",
       "    .dataframe tbody tr th {\n",
       "        vertical-align: top;\n",
       "    }\n",
       "\n",
       "    .dataframe thead th {\n",
       "        text-align: right;\n",
       "    }\n",
       "</style>\n",
       "<table border=\"1\" class=\"dataframe\">\n",
       "  <thead>\n",
       "    <tr style=\"text-align: right;\">\n",
       "      <th></th>\n",
       "      <th>comment_text</th>\n",
       "      <th>insult</th>\n",
       "    </tr>\n",
       "  </thead>\n",
       "  <tbody>\n",
       "    <tr>\n",
       "      <th>65990</th>\n",
       "      <td>fuck youfuck youfuck youfuck youfuck youfuck y...</td>\n",
       "      <td>1</td>\n",
       "    </tr>\n",
       "    <tr>\n",
       "      <th>122324</th>\n",
       "      <td>utc go f golbez mohammed atta ought rot hell s...</td>\n",
       "      <td>1</td>\n",
       "    </tr>\n",
       "  </tbody>\n",
       "</table>\n",
       "</div>"
      ],
      "text/plain": [
       "                                             comment_text  insult\n",
       "65990   fuck youfuck youfuck youfuck youfuck youfuck y...       1\n",
       "122324  utc go f golbez mohammed atta ought rot hell s...       1"
      ]
     },
     "metadata": {},
     "output_type": "display_data"
    },
    {
     "name": "stdout",
     "output_type": "stream",
     "text": [
      ".............identity_hate..............\n"
     ]
    },
    {
     "data": {
      "text/html": [
       "<div>\n",
       "<style scoped>\n",
       "    .dataframe tbody tr th:only-of-type {\n",
       "        vertical-align: middle;\n",
       "    }\n",
       "\n",
       "    .dataframe tbody tr th {\n",
       "        vertical-align: top;\n",
       "    }\n",
       "\n",
       "    .dataframe thead th {\n",
       "        text-align: right;\n",
       "    }\n",
       "</style>\n",
       "<table border=\"1\" class=\"dataframe\">\n",
       "  <thead>\n",
       "    <tr style=\"text-align: right;\">\n",
       "      <th></th>\n",
       "      <th>comment_text</th>\n",
       "      <th>identity_hate</th>\n",
       "    </tr>\n",
       "  </thead>\n",
       "  <tbody>\n",
       "    <tr>\n",
       "      <th>91821</th>\n",
       "      <td>ea bunch homosexuals like make good games ruin...</td>\n",
       "      <td>1</td>\n",
       "    </tr>\n",
       "    <tr>\n",
       "      <th>67975</th>\n",
       "      <td>done popin capp yo black ima cut man jewls sel...</td>\n",
       "      <td>1</td>\n",
       "    </tr>\n",
       "  </tbody>\n",
       "</table>\n",
       "</div>"
      ],
      "text/plain": [
       "                                            comment_text  identity_hate\n",
       "91821  ea bunch homosexuals like make good games ruin...              1\n",
       "67975  done popin capp yo black ima cut man jewls sel...              1"
      ]
     },
     "metadata": {},
     "output_type": "display_data"
    }
   ],
   "source": [
    "for col in ['toxic','severe_toxic','obscene','threat','insult','identity_hate']:\n",
    "    print(col.center(40, '.'))\n",
    "    display(df_train.loc[df_train[col]==1,['comment_text',col]].sample(2))"
   ]
  },
  {
   "cell_type": "code",
   "execution_count": 11,
   "id": "5fc413cd",
   "metadata": {
    "execution": {
     "iopub.execute_input": "2022-01-23T04:00:18.879156Z",
     "iopub.status.busy": "2022-01-23T04:00:18.877882Z",
     "iopub.status.idle": "2022-01-23T04:00:18.908981Z",
     "shell.execute_reply": "2022-01-23T04:00:18.908352Z",
     "shell.execute_reply.started": "2022-01-22T15:41:27.138747Z"
    },
    "papermill": {
     "duration": 0.088769,
     "end_time": "2022-01-23T04:00:18.909125",
     "exception": false,
     "start_time": "2022-01-23T04:00:18.820356",
     "status": "completed"
    },
    "tags": []
   },
   "outputs": [
    {
     "data": {
      "text/html": [
       "<div>\n",
       "<style scoped>\n",
       "    .dataframe tbody tr th:only-of-type {\n",
       "        vertical-align: middle;\n",
       "    }\n",
       "\n",
       "    .dataframe tbody tr th {\n",
       "        vertical-align: top;\n",
       "    }\n",
       "\n",
       "    .dataframe thead th {\n",
       "        text-align: right;\n",
       "    }\n",
       "</style>\n",
       "<table border=\"1\" class=\"dataframe\">\n",
       "  <thead>\n",
       "    <tr style=\"text-align: right;\">\n",
       "      <th></th>\n",
       "      <th>text</th>\n",
       "      <th>y</th>\n",
       "    </tr>\n",
       "  </thead>\n",
       "  <tbody>\n",
       "    <tr>\n",
       "      <th>111295</th>\n",
       "      <td>hey problem thanks watching information correc...</td>\n",
       "      <td>0</td>\n",
       "    </tr>\n",
       "    <tr>\n",
       "      <th>6049</th>\n",
       "      <td>op fag op fag</td>\n",
       "      <td>1</td>\n",
       "    </tr>\n",
       "    <tr>\n",
       "      <th>154988</th>\n",
       "      <td>capitalization article names recently renamed ...</td>\n",
       "      <td>0</td>\n",
       "    </tr>\n",
       "    <tr>\n",
       "      <th>138709</th>\n",
       "      <td>lul map svg source imagelondonundergroundfullm...</td>\n",
       "      <td>0</td>\n",
       "    </tr>\n",
       "    <tr>\n",
       "      <th>7645</th>\n",
       "      <td>thank experimenting page vera bradley wikipedi...</td>\n",
       "      <td>0</td>\n",
       "    </tr>\n",
       "  </tbody>\n",
       "</table>\n",
       "</div>"
      ],
      "text/plain": [
       "                                                     text  y\n",
       "111295  hey problem thanks watching information correc...  0\n",
       "6049                                        op fag op fag  1\n",
       "154988  capitalization article names recently renamed ...  0\n",
       "138709  lul map svg source imagelondonundergroundfullm...  0\n",
       "7645    thank experimenting page vera bradley wikipedi...  0"
      ]
     },
     "execution_count": 11,
     "metadata": {},
     "output_type": "execute_result"
    }
   ],
   "source": [
    "df_train['y'] = (df_train[['toxic', 'severe_toxic', 'obscene', 'threat', 'insult', 'identity_hate']].sum(axis=1) > 0 ).astype(int)\n",
    "df_train_binary = df_train[['comment_text', 'y']].rename(columns={'comment_text': 'text'})\n",
    "df_train_binary.sample(5)"
   ]
  },
  {
   "cell_type": "code",
   "execution_count": 12,
   "id": "e7d4bc06",
   "metadata": {
    "execution": {
     "iopub.execute_input": "2022-01-23T04:00:19.013522Z",
     "iopub.status.busy": "2022-01-23T04:00:19.012894Z",
     "iopub.status.idle": "2022-01-23T04:00:19.026460Z",
     "shell.execute_reply": "2022-01-23T04:00:19.025954Z",
     "shell.execute_reply.started": "2022-01-22T16:29:00.583545Z"
    },
    "papermill": {
     "duration": 0.068055,
     "end_time": "2022-01-23T04:00:19.026621",
     "exception": false,
     "start_time": "2022-01-23T04:00:18.958566",
     "status": "completed"
    },
    "tags": []
   },
   "outputs": [
    {
     "data": {
      "text/html": [
       "<div>\n",
       "<style scoped>\n",
       "    .dataframe tbody tr th:only-of-type {\n",
       "        vertical-align: middle;\n",
       "    }\n",
       "\n",
       "    .dataframe tbody tr th {\n",
       "        vertical-align: top;\n",
       "    }\n",
       "\n",
       "    .dataframe thead th {\n",
       "        text-align: right;\n",
       "    }\n",
       "</style>\n",
       "<table border=\"1\" class=\"dataframe\">\n",
       "  <thead>\n",
       "    <tr style=\"text-align: right;\">\n",
       "      <th></th>\n",
       "      <th>text</th>\n",
       "      <th>y</th>\n",
       "    </tr>\n",
       "  </thead>\n",
       "  <tbody>\n",
       "    <tr>\n",
       "      <th>32006</th>\n",
       "      <td>another deletion dog suggest set persons page ...</td>\n",
       "      <td>1</td>\n",
       "    </tr>\n",
       "    <tr>\n",
       "      <th>149450</th>\n",
       "      <td>didnt fucking change genre put commas</td>\n",
       "      <td>1</td>\n",
       "    </tr>\n",
       "    <tr>\n",
       "      <th>57546</th>\n",
       "      <td>ok fine wikipedia meant soapbox commies like s...</td>\n",
       "      <td>1</td>\n",
       "    </tr>\n",
       "    <tr>\n",
       "      <th>95661</th>\n",
       "      <td>hello welcome talk page communist asshole like...</td>\n",
       "      <td>1</td>\n",
       "    </tr>\n",
       "    <tr>\n",
       "      <th>33024</th>\n",
       "      <td>lick balls sucking arse</td>\n",
       "      <td>1</td>\n",
       "    </tr>\n",
       "  </tbody>\n",
       "</table>\n",
       "</div>"
      ],
      "text/plain": [
       "                                                     text  y\n",
       "32006   another deletion dog suggest set persons page ...  1\n",
       "149450              didnt fucking change genre put commas  1\n",
       "57546   ok fine wikipedia meant soapbox commies like s...  1\n",
       "95661   hello welcome talk page communist asshole like...  1\n",
       "33024                             lick balls sucking arse  1"
      ]
     },
     "metadata": {},
     "output_type": "display_data"
    }
   ],
   "source": [
    " display(df_train_binary.loc[df_train_binary['y']==1,['text','y']].sample(5))"
   ]
  },
  {
   "cell_type": "code",
   "execution_count": 13,
   "id": "6ead2539",
   "metadata": {
    "execution": {
     "iopub.execute_input": "2022-01-23T04:00:19.132674Z",
     "iopub.status.busy": "2022-01-23T04:00:19.131970Z",
     "iopub.status.idle": "2022-01-23T04:00:19.159704Z",
     "shell.execute_reply": "2022-01-23T04:00:19.160200Z",
     "shell.execute_reply.started": "2022-01-22T16:29:12.830757Z"
    },
    "papermill": {
     "duration": 0.08366,
     "end_time": "2022-01-23T04:00:19.160373",
     "exception": false,
     "start_time": "2022-01-23T04:00:19.076713",
     "status": "completed"
    },
    "tags": []
   },
   "outputs": [
    {
     "data": {
      "text/html": [
       "<div>\n",
       "<style scoped>\n",
       "    .dataframe tbody tr th:only-of-type {\n",
       "        vertical-align: middle;\n",
       "    }\n",
       "\n",
       "    .dataframe tbody tr th {\n",
       "        vertical-align: top;\n",
       "    }\n",
       "\n",
       "    .dataframe thead th {\n",
       "        text-align: right;\n",
       "    }\n",
       "</style>\n",
       "<table border=\"1\" class=\"dataframe\">\n",
       "  <thead>\n",
       "    <tr style=\"text-align: right;\">\n",
       "      <th></th>\n",
       "      <th>text</th>\n",
       "      <th>y</th>\n",
       "    </tr>\n",
       "  </thead>\n",
       "  <tbody>\n",
       "    <tr>\n",
       "      <th>16969</th>\n",
       "      <td>ive responded message talk page saying could b...</td>\n",
       "      <td>0</td>\n",
       "    </tr>\n",
       "    <tr>\n",
       "      <th>125718</th>\n",
       "      <td>belgian nationality law new wikipedia moderato...</td>\n",
       "      <td>0</td>\n",
       "    </tr>\n",
       "    <tr>\n",
       "      <th>89548</th>\n",
       "      <td>rugby questions hi mainly find info statsguru ...</td>\n",
       "      <td>0</td>\n",
       "    </tr>\n",
       "    <tr>\n",
       "      <th>146804</th>\n",
       "      <td>aligncenter border width cellpadding stylebord...</td>\n",
       "      <td>0</td>\n",
       "    </tr>\n",
       "    <tr>\n",
       "      <th>144742</th>\n",
       "      <td>mein gott fast thanks kelly pool pic good thin...</td>\n",
       "      <td>0</td>\n",
       "    </tr>\n",
       "  </tbody>\n",
       "</table>\n",
       "</div>"
      ],
      "text/plain": [
       "                                                     text  y\n",
       "16969   ive responded message talk page saying could b...  0\n",
       "125718  belgian nationality law new wikipedia moderato...  0\n",
       "89548   rugby questions hi mainly find info statsguru ...  0\n",
       "146804  aligncenter border width cellpadding stylebord...  0\n",
       "144742  mein gott fast thanks kelly pool pic good thin...  0"
      ]
     },
     "metadata": {},
     "output_type": "display_data"
    }
   ],
   "source": [
    " display(df_train_binary.loc[df_train_binary['y']==0,['text','y']].sample(5))"
   ]
  },
  {
   "cell_type": "code",
   "execution_count": 14,
   "id": "f625c312",
   "metadata": {
    "execution": {
     "iopub.execute_input": "2022-01-23T04:00:19.265288Z",
     "iopub.status.busy": "2022-01-23T04:00:19.264676Z",
     "iopub.status.idle": "2022-01-23T04:00:19.281140Z",
     "shell.execute_reply": "2022-01-23T04:00:19.281727Z",
     "shell.execute_reply.started": "2022-01-22T16:38:02.213098Z"
    },
    "papermill": {
     "duration": 0.070552,
     "end_time": "2022-01-23T04:00:19.281902",
     "exception": false,
     "start_time": "2022-01-23T04:00:19.211350",
     "status": "completed"
    },
    "tags": []
   },
   "outputs": [
    {
     "data": {
      "text/html": [
       "<div>\n",
       "<style scoped>\n",
       "    .dataframe tbody tr th:only-of-type {\n",
       "        vertical-align: middle;\n",
       "    }\n",
       "\n",
       "    .dataframe tbody tr th {\n",
       "        vertical-align: top;\n",
       "    }\n",
       "\n",
       "    .dataframe thead th {\n",
       "        text-align: right;\n",
       "    }\n",
       "</style>\n",
       "<table border=\"1\" class=\"dataframe\">\n",
       "  <thead>\n",
       "    <tr style=\"text-align: right;\">\n",
       "      <th></th>\n",
       "      <th>text</th>\n",
       "      <th>y</th>\n",
       "    </tr>\n",
       "  </thead>\n",
       "  <tbody>\n",
       "    <tr>\n",
       "      <th>0</th>\n",
       "      <td>explanation edits made username hardcore metal...</td>\n",
       "      <td>0</td>\n",
       "    </tr>\n",
       "    <tr>\n",
       "      <th>1</th>\n",
       "      <td>daww matches background colour im seemingly st...</td>\n",
       "      <td>0</td>\n",
       "    </tr>\n",
       "    <tr>\n",
       "      <th>2</th>\n",
       "      <td>hey man im really trying edit war guy constant...</td>\n",
       "      <td>0</td>\n",
       "    </tr>\n",
       "    <tr>\n",
       "      <th>3</th>\n",
       "      <td>cant make real suggestions improvement wondere...</td>\n",
       "      <td>0</td>\n",
       "    </tr>\n",
       "    <tr>\n",
       "      <th>4</th>\n",
       "      <td>sir hero chance remember page thats</td>\n",
       "      <td>0</td>\n",
       "    </tr>\n",
       "  </tbody>\n",
       "</table>\n",
       "</div>"
      ],
      "text/plain": [
       "                                                text  y\n",
       "0  explanation edits made username hardcore metal...  0\n",
       "1  daww matches background colour im seemingly st...  0\n",
       "2  hey man im really trying edit war guy constant...  0\n",
       "3  cant make real suggestions improvement wondere...  0\n",
       "4                sir hero chance remember page thats  0"
      ]
     },
     "execution_count": 14,
     "metadata": {},
     "output_type": "execute_result"
    }
   ],
   "source": [
    "df_lt=df_train_binary.loc[df_train_binary['y']==0]\n",
    "df_lt.head()\n",
    "# print(len(df_lt))"
   ]
  },
  {
   "cell_type": "code",
   "execution_count": 15,
   "id": "0ed289d0",
   "metadata": {
    "execution": {
     "iopub.execute_input": "2022-01-23T04:00:19.386425Z",
     "iopub.status.busy": "2022-01-23T04:00:19.385790Z",
     "iopub.status.idle": "2022-01-23T04:01:08.725310Z",
     "shell.execute_reply": "2022-01-23T04:01:08.725850Z",
     "shell.execute_reply.started": "2022-01-22T16:38:05.421931Z"
    },
    "papermill": {
     "duration": 49.39362,
     "end_time": "2022-01-23T04:01:08.726022",
     "exception": false,
     "start_time": "2022-01-23T04:00:19.332402",
     "status": "completed"
    },
    "tags": []
   },
   "outputs": [
    {
     "name": "stdout",
     "output_type": "stream",
     "text": [
      "There are 36927606 words in the combination of all less_toxic reviews.\n"
     ]
    },
    {
     "data": {
      "image/png": "[encoded data removed]",
      "text/plain": [
       "<Figure size 720x720 with 1 Axes>"
      ]
     },
     "metadata": {
      "needs_background": "light"
     },
     "output_type": "display_data"
    }
   ],
   "source": [
    "from wordcloud import WordCloud, STOPWORDS, ImageColorGenerator\n",
    "# text_lt = \" \".join(t for t in df[\"less_toxic\"])\n",
    "\n",
    "text_lt = \" \".join(t for t in df_lt['text'])\n",
    "print (\"There are {} words in the combination of all less_toxic reviews.\".format(len(text_lt)))\n",
    "\n",
    "#Generate a word cloud image\n",
    "wordcloud = WordCloud(stopwords=STOPWORDS,background_color=\"white\").generate(text_lt)\n",
    "\n",
    "# Display the generated image:\n",
    "# the matplotlib way:\n",
    "plt.figure(figsize=[10,10])\n",
    "plt.imshow(wordcloud, interpolation='bilinear')\n",
    "plt.axis(\"off\")\n",
    "plt.show()"
   ]
  },
  {
   "cell_type": "code",
   "execution_count": 16,
   "id": "7e4412f6",
   "metadata": {
    "execution": {
     "iopub.execute_input": "2022-01-23T04:01:08.847820Z",
     "iopub.status.busy": "2022-01-23T04:01:08.845262Z",
     "iopub.status.idle": "2022-01-23T04:01:08.857989Z",
     "shell.execute_reply": "2022-01-23T04:01:08.857493Z",
     "shell.execute_reply.started": "2022-01-22T16:40:34.255963Z"
    },
    "papermill": {
     "duration": 0.07371,
     "end_time": "2022-01-23T04:01:08.858127",
     "exception": false,
     "start_time": "2022-01-23T04:01:08.784417",
     "status": "completed"
    },
    "tags": []
   },
   "outputs": [
    {
     "data": {
      "text/html": [
       "<div>\n",
       "<style scoped>\n",
       "    .dataframe tbody tr th:only-of-type {\n",
       "        vertical-align: middle;\n",
       "    }\n",
       "\n",
       "    .dataframe tbody tr th {\n",
       "        vertical-align: top;\n",
       "    }\n",
       "\n",
       "    .dataframe thead th {\n",
       "        text-align: right;\n",
       "    }\n",
       "</style>\n",
       "<table border=\"1\" class=\"dataframe\">\n",
       "  <thead>\n",
       "    <tr style=\"text-align: right;\">\n",
       "      <th></th>\n",
       "      <th>text</th>\n",
       "      <th>y</th>\n",
       "    </tr>\n",
       "  </thead>\n",
       "  <tbody>\n",
       "    <tr>\n",
       "      <th>6</th>\n",
       "      <td>cocksucker piss around work</td>\n",
       "      <td>1</td>\n",
       "    </tr>\n",
       "    <tr>\n",
       "      <th>12</th>\n",
       "      <td>hey talk exclusive group wp talibanswho good d...</td>\n",
       "      <td>1</td>\n",
       "    </tr>\n",
       "    <tr>\n",
       "      <th>16</th>\n",
       "      <td>bye dont look come think comming back tosser</td>\n",
       "      <td>1</td>\n",
       "    </tr>\n",
       "    <tr>\n",
       "      <th>42</th>\n",
       "      <td>gay antisemmitian archangel white tiger meow g...</td>\n",
       "      <td>1</td>\n",
       "    </tr>\n",
       "    <tr>\n",
       "      <th>43</th>\n",
       "      <td>fuck filthy mother ass dry</td>\n",
       "      <td>1</td>\n",
       "    </tr>\n",
       "  </tbody>\n",
       "</table>\n",
       "</div>"
      ],
      "text/plain": [
       "                                                 text  y\n",
       "6                         cocksucker piss around work  1\n",
       "12  hey talk exclusive group wp talibanswho good d...  1\n",
       "16       bye dont look come think comming back tosser  1\n",
       "42  gay antisemmitian archangel white tiger meow g...  1\n",
       "43                         fuck filthy mother ass dry  1"
      ]
     },
     "execution_count": 16,
     "metadata": {},
     "output_type": "execute_result"
    }
   ],
   "source": [
    "df_mt=df_train_binary.loc[df_train_binary['y']==1]\n",
    "df_mt.head()"
   ]
  },
  {
   "cell_type": "code",
   "execution_count": 17,
   "id": "68d219ac",
   "metadata": {
    "execution": {
     "iopub.execute_input": "2022-01-23T04:01:09.218881Z",
     "iopub.status.busy": "2022-01-23T04:01:09.187931Z",
     "iopub.status.idle": "2022-01-23T04:01:13.823612Z",
     "shell.execute_reply": "2022-01-23T04:01:13.824174Z",
     "shell.execute_reply.started": "2022-01-22T16:41:42.038482Z"
    },
    "papermill": {
     "duration": 4.906961,
     "end_time": "2022-01-23T04:01:13.824348",
     "exception": false,
     "start_time": "2022-01-23T04:01:08.917387",
     "status": "completed"
    },
    "tags": []
   },
   "outputs": [
    {
     "name": "stdout",
     "output_type": "stream",
     "text": [
      "There are 3176069 words in the combination of all more_toxic reviews.\n"
     ]
    },
    {
     "data": {
      "image/png": "[encoded data removed]",
      "text/plain": [
       "<Figure size 720x720 with 1 Axes>"
      ]
     },
     "metadata": {
      "needs_background": "light"
     },
     "output_type": "display_data"
    }
   ],
   "source": [
    "text_mt = \" \".join(t for t in df_mt['text'])\n",
    "print (\"There are {} words in the combination of all more_toxic reviews.\".format(len(text_mt)))\n",
    "\n",
    "#Generate a word cloud image\n",
    "wordcloud = WordCloud(stopwords=STOPWORDS,background_color=\"black\").generate(text_mt)\n",
    "\n",
    "# Display the generated image:\n",
    "# the matplotlib way:\n",
    "plt.figure(figsize=[10,10])\n",
    "plt.imshow(wordcloud, interpolation='bilinear')\n",
    "plt.axis(\"off\")\n",
    "plt.show()"
   ]
  },
  {
   "cell_type": "markdown",
   "id": "9e72f3f7",
   "metadata": {
    "papermill": {
     "duration": 0.06305,
     "end_time": "2022-01-23T04:01:13.952127",
     "exception": false,
     "start_time": "2022-01-23T04:01:13.889077",
     "status": "completed"
    },
    "tags": []
   },
   "source": [
    "**Unbalanced dataset**"
   ]
  },
  {
   "cell_type": "code",
   "execution_count": 18,
   "id": "927e1f88",
   "metadata": {
    "execution": {
     "iopub.execute_input": "2022-01-23T04:01:14.083234Z",
     "iopub.status.busy": "2022-01-23T04:01:14.082162Z",
     "iopub.status.idle": "2022-01-23T04:01:14.093142Z",
     "shell.execute_reply": "2022-01-23T04:01:14.093737Z",
     "shell.execute_reply.started": "2022-01-22T15:52:06.047595Z"
    },
    "papermill": {
     "duration": 0.078046,
     "end_time": "2022-01-23T04:01:14.093907",
     "exception": false,
     "start_time": "2022-01-23T04:01:14.015861",
     "status": "completed"
    },
    "tags": []
   },
   "outputs": [
    {
     "data": {
      "text/plain": [
       "0    0.898321\n",
       "1    0.101679\n",
       "Name: y, dtype: float64"
      ]
     },
     "execution_count": 18,
     "metadata": {},
     "output_type": "execute_result"
    }
   ],
   "source": [
    "df_train_binary['y'].value_counts(normalize=True)"
   ]
  },
  {
   "cell_type": "code",
   "execution_count": 19,
   "id": "1f641707",
   "metadata": {
    "execution": {
     "iopub.execute_input": "2022-01-23T04:01:14.225622Z",
     "iopub.status.busy": "2022-01-23T04:01:14.224660Z",
     "iopub.status.idle": "2022-01-23T04:01:14.231469Z",
     "shell.execute_reply": "2022-01-23T04:01:14.232511Z",
     "shell.execute_reply.started": "2022-01-22T15:53:39.009992Z"
    },
    "papermill": {
     "duration": 0.074534,
     "end_time": "2022-01-23T04:01:14.232829",
     "exception": false,
     "start_time": "2022-01-23T04:01:14.158295",
     "status": "completed"
    },
    "tags": []
   },
   "outputs": [
    {
     "name": "stdout",
     "output_type": "stream",
     "text": [
      "16225\n"
     ]
    }
   ],
   "source": [
    "toxic_len = (df_train_binary['y'] == 1).sum()\n",
    "print(toxic_len)"
   ]
  },
  {
   "cell_type": "code",
   "execution_count": 20,
   "id": "f4e6ff0e",
   "metadata": {
    "execution": {
     "iopub.execute_input": "2022-01-23T04:01:14.365471Z",
     "iopub.status.busy": "2022-01-23T04:01:14.364475Z",
     "iopub.status.idle": "2022-01-23T04:01:14.387191Z",
     "shell.execute_reply": "2022-01-23T04:01:14.387743Z",
     "shell.execute_reply.started": "2022-01-22T15:55:28.868653Z"
    },
    "papermill": {
     "duration": 0.090006,
     "end_time": "2022-01-23T04:01:14.387917",
     "exception": false,
     "start_time": "2022-01-23T04:01:14.297911",
     "status": "completed"
    },
    "tags": []
   },
   "outputs": [
    {
     "data": {
      "text/plain": [
       "0    1.0\n",
       "Name: y, dtype: float64"
      ]
     },
     "execution_count": 20,
     "metadata": {},
     "output_type": "execute_result"
    }
   ],
   "source": [
    "df_train_balanced = df_train_binary[df_train_binary['y'] == 0].sample(n=toxic_len)\n",
    "df_train_balanced['y'].value_counts(normalize=True)"
   ]
  },
  {
   "cell_type": "markdown",
   "id": "0fb8afa6",
   "metadata": {
    "papermill": {
     "duration": 0.063655,
     "end_time": "2022-01-23T04:01:14.516019",
     "exception": false,
     "start_time": "2022-01-23T04:01:14.452364",
     "status": "completed"
    },
    "tags": []
   },
   "source": [
    "**Balanced dataset**"
   ]
  },
  {
   "cell_type": "code",
   "execution_count": 21,
   "id": "ce7605ad",
   "metadata": {
    "execution": {
     "iopub.execute_input": "2022-01-23T04:01:14.648214Z",
     "iopub.status.busy": "2022-01-23T04:01:14.647225Z",
     "iopub.status.idle": "2022-01-23T04:01:14.659872Z",
     "shell.execute_reply": "2022-01-23T04:01:14.660398Z",
     "shell.execute_reply.started": "2022-01-22T16:05:28.383837Z"
    },
    "papermill": {
     "duration": 0.080384,
     "end_time": "2022-01-23T04:01:14.660596",
     "exception": false,
     "start_time": "2022-01-23T04:01:14.580212",
     "status": "completed"
    },
    "tags": []
   },
   "outputs": [
    {
     "data": {
      "text/plain": [
       "1    16225\n",
       "0    16225\n",
       "Name: y, dtype: int64"
      ]
     },
     "execution_count": 21,
     "metadata": {},
     "output_type": "execute_result"
    }
   ],
   "source": [
    "df_train_b = pd.concat([df_train_binary[df_train_binary['y'] == 1], df_train_balanced])\n",
    "df_train_b['y'].value_counts()"
   ]
  },
  {
   "cell_type": "markdown",
   "id": "5e7beeea",
   "metadata": {
    "papermill": {
     "duration": 0.065256,
     "end_time": "2022-01-23T04:01:14.790235",
     "exception": false,
     "start_time": "2022-01-23T04:01:14.724979",
     "status": "completed"
    },
    "tags": []
   },
   "source": [
    "**TF-IDF**"
   ]
  },
  {
   "cell_type": "code",
   "execution_count": 22,
   "id": "683739e7",
   "metadata": {
    "execution": {
     "iopub.execute_input": "2022-01-23T04:01:14.925473Z",
     "iopub.status.busy": "2022-01-23T04:01:14.924533Z",
     "iopub.status.idle": "2022-01-23T04:01:14.927372Z",
     "shell.execute_reply": "2022-01-23T04:01:14.926783Z",
     "shell.execute_reply.started": "2022-01-22T16:05:58.490375Z"
    },
    "papermill": {
     "duration": 0.071867,
     "end_time": "2022-01-23T04:01:14.927503",
     "exception": false,
     "start_time": "2022-01-23T04:01:14.855636",
     "status": "completed"
    },
    "tags": []
   },
   "outputs": [],
   "source": [
    "vec = TfidfVectorizer()"
   ]
  },
  {
   "cell_type": "code",
   "execution_count": 23,
   "id": "772535b0",
   "metadata": {
    "execution": {
     "iopub.execute_input": "2022-01-23T04:01:15.061110Z",
     "iopub.status.busy": "2022-01-23T04:01:15.060079Z",
     "iopub.status.idle": "2022-01-23T04:01:16.717689Z",
     "shell.execute_reply": "2022-01-23T04:01:16.717164Z",
     "shell.execute_reply.started": "2022-01-22T16:06:19.740983Z"
    },
    "papermill": {
     "duration": 1.726207,
     "end_time": "2022-01-23T04:01:16.717833",
     "exception": false,
     "start_time": "2022-01-23T04:01:14.991626",
     "status": "completed"
    },
    "tags": []
   },
   "outputs": [
    {
     "data": {
      "text/plain": [
       "<32450x72426 sparse matrix of type '<class 'numpy.float64'>'\n",
       "\twith 775815 stored elements in Compressed Sparse Row format>"
      ]
     },
     "execution_count": 23,
     "metadata": {},
     "output_type": "execute_result"
    }
   ],
   "source": [
    "X = vec.fit_transform(df_train_b['text'])\n",
    "X"
   ]
  },
  {
   "cell_type": "code",
   "execution_count": 24,
   "id": "3c64cf55",
   "metadata": {
    "execution": {
     "iopub.execute_input": "2022-01-23T04:01:16.855095Z",
     "iopub.status.busy": "2022-01-23T04:01:16.854296Z",
     "iopub.status.idle": "2022-01-23T04:01:16.877314Z",
     "shell.execute_reply": "2022-01-23T04:01:16.877978Z",
     "shell.execute_reply.started": "2022-01-22T16:07:40.158854Z"
    },
    "papermill": {
     "duration": 0.095655,
     "end_time": "2022-01-23T04:01:16.878176",
     "exception": false,
     "start_time": "2022-01-23T04:01:16.782521",
     "status": "completed"
    },
    "tags": []
   },
   "outputs": [
    {
     "data": {
      "text/plain": [
       "MultinomialNB()"
      ]
     },
     "execution_count": 24,
     "metadata": {},
     "output_type": "execute_result"
    }
   ],
   "source": [
    "from sklearn.naive_bayes import MultinomialNB\n",
    "model = MultinomialNB()\n",
    "model.fit(X, df_train_b['y'])"
   ]
  },
  {
   "cell_type": "code",
   "execution_count": 25,
   "id": "f55131da",
   "metadata": {
    "execution": {
     "iopub.execute_input": "2022-01-23T04:01:17.014624Z",
     "iopub.status.busy": "2022-01-23T04:01:17.013627Z",
     "iopub.status.idle": "2022-01-23T04:01:17.553956Z",
     "shell.execute_reply": "2022-01-23T04:01:17.554420Z",
     "shell.execute_reply.started": "2022-01-22T16:17:48.910458Z"
    },
    "papermill": {
     "duration": 0.609786,
     "end_time": "2022-01-23T04:01:17.554626",
     "exception": false,
     "start_time": "2022-01-23T04:01:16.944840",
     "status": "completed"
    },
    "tags": []
   },
   "outputs": [
    {
     "data": {
      "text/html": [
       "<div>\n",
       "<style scoped>\n",
       "    .dataframe tbody tr th:only-of-type {\n",
       "        vertical-align: middle;\n",
       "    }\n",
       "\n",
       "    .dataframe tbody tr th {\n",
       "        vertical-align: top;\n",
       "    }\n",
       "\n",
       "    .dataframe thead th {\n",
       "        text-align: right;\n",
       "    }\n",
       "</style>\n",
       "<table border=\"1\" class=\"dataframe\">\n",
       "  <thead>\n",
       "    <tr style=\"text-align: right;\">\n",
       "      <th></th>\n",
       "      <th>worker</th>\n",
       "      <th>less_toxic</th>\n",
       "      <th>more_toxic</th>\n",
       "    </tr>\n",
       "  </thead>\n",
       "  <tbody>\n",
       "    <tr>\n",
       "      <th>0</th>\n",
       "      <td>313</td>\n",
       "      <td>This article sucks \\n\\nwoo woo wooooooo</td>\n",
       "      <td>WHAT!!!!!!!!?!?!!?!?!!?!?!?!?!!!!!!!!!!!!!!!!!...</td>\n",
       "    </tr>\n",
       "    <tr>\n",
       "      <th>1</th>\n",
       "      <td>188</td>\n",
       "      <td>\"And yes, people should recognize that but the...</td>\n",
       "      <td>Daphne Guinness \\n\\nTop of the mornin' my fav...</td>\n",
       "    </tr>\n",
       "    <tr>\n",
       "      <th>2</th>\n",
       "      <td>82</td>\n",
       "      <td>Western Media?\\n\\nYup, because every crime in...</td>\n",
       "      <td>\"Atom you don't believe actual photos of mastu...</td>\n",
       "    </tr>\n",
       "    <tr>\n",
       "      <th>3</th>\n",
       "      <td>347</td>\n",
       "      <td>And you removed it! You numbskull! I don't car...</td>\n",
       "      <td>You seem to have sand in your vagina.\\n\\nMight...</td>\n",
       "    </tr>\n",
       "    <tr>\n",
       "      <th>4</th>\n",
       "      <td>539</td>\n",
       "      <td>smelly vagina \\n\\nBluerasberry why don't you ...</td>\n",
       "      <td>hey \\n\\nway to support nazis, you racist</td>\n",
       "    </tr>\n",
       "  </tbody>\n",
       "</table>\n",
       "</div>"
      ],
      "text/plain": [
       "   worker                                         less_toxic  \\\n",
       "0     313            This article sucks \\n\\nwoo woo wooooooo   \n",
       "1     188  \"And yes, people should recognize that but the...   \n",
       "2      82   Western Media?\\n\\nYup, because every crime in...   \n",
       "3     347  And you removed it! You numbskull! I don't car...   \n",
       "4     539   smelly vagina \\n\\nBluerasberry why don't you ...   \n",
       "\n",
       "                                          more_toxic  \n",
       "0  WHAT!!!!!!!!?!?!!?!?!!?!?!?!?!!!!!!!!!!!!!!!!!...  \n",
       "1   Daphne Guinness \\n\\nTop of the mornin' my fav...  \n",
       "2  \"Atom you don't believe actual photos of mastu...  \n",
       "3  You seem to have sand in your vagina.\\n\\nMight...  \n",
       "4           hey \\n\\nway to support nazis, you racist  "
      ]
     },
     "execution_count": 25,
     "metadata": {},
     "output_type": "execute_result"
    }
   ],
   "source": [
    "df_val = pd.read_csv(\"../input/jigsaw-toxic-severity-rating/validation_data.csv\")\n",
    "df_val.head()"
   ]
  },
  {
   "cell_type": "code",
   "execution_count": 26,
   "id": "83a1de08",
   "metadata": {
    "execution": {
     "iopub.execute_input": "2022-01-23T04:01:17.707299Z",
     "iopub.status.busy": "2022-01-23T04:01:17.706641Z",
     "iopub.status.idle": "2022-01-23T04:01:44.744996Z",
     "shell.execute_reply": "2022-01-23T04:01:44.744361Z",
     "shell.execute_reply.started": "2022-01-22T16:18:48.737303Z"
    },
    "papermill": {
     "duration": 27.122664,
     "end_time": "2022-01-23T04:01:44.745157",
     "exception": false,
     "start_time": "2022-01-23T04:01:17.622493",
     "status": "completed"
    },
    "tags": []
   },
   "outputs": [
    {
     "data": {
      "text/html": [
       "<div>\n",
       "<style scoped>\n",
       "    .dataframe tbody tr th:only-of-type {\n",
       "        vertical-align: middle;\n",
       "    }\n",
       "\n",
       "    .dataframe tbody tr th {\n",
       "        vertical-align: top;\n",
       "    }\n",
       "\n",
       "    .dataframe thead th {\n",
       "        text-align: right;\n",
       "    }\n",
       "</style>\n",
       "<table border=\"1\" class=\"dataframe\">\n",
       "  <thead>\n",
       "    <tr style=\"text-align: right;\">\n",
       "      <th></th>\n",
       "      <th>worker</th>\n",
       "      <th>less_toxic</th>\n",
       "      <th>more_toxic</th>\n",
       "    </tr>\n",
       "  </thead>\n",
       "  <tbody>\n",
       "    <tr>\n",
       "      <th>0</th>\n",
       "      <td>313</td>\n",
       "      <td>article sucks woo woo wooooooo</td>\n",
       "      <td>WHAT!!!!!!!!?!?!!?!?!!?!?!?!?!!!!!!!!!!!!!!!!!...</td>\n",
       "    </tr>\n",
       "    <tr>\n",
       "      <th>1</th>\n",
       "      <td>188</td>\n",
       "      <td>yes people recognize usually dont one first ob...</td>\n",
       "      <td>Daphne Guinness \\n\\nTop of the mornin' my fav...</td>\n",
       "    </tr>\n",
       "    <tr>\n",
       "      <th>2</th>\n",
       "      <td>82</td>\n",
       "      <td>western media yup every crime entire world cau...</td>\n",
       "      <td>\"Atom you don't believe actual photos of mastu...</td>\n",
       "    </tr>\n",
       "    <tr>\n",
       "      <th>3</th>\n",
       "      <td>347</td>\n",
       "      <td>removed numbskull dont care say anymore life g...</td>\n",
       "      <td>You seem to have sand in your vagina.\\n\\nMight...</td>\n",
       "    </tr>\n",
       "    <tr>\n",
       "      <th>4</th>\n",
       "      <td>539</td>\n",
       "      <td>smelly vagina bluerasberry dont model cheesy b...</td>\n",
       "      <td>hey \\n\\nway to support nazis, you racist</td>\n",
       "    </tr>\n",
       "  </tbody>\n",
       "</table>\n",
       "</div>"
      ],
      "text/plain": [
       "   worker                                         less_toxic  \\\n",
       "0     313                     article sucks woo woo wooooooo   \n",
       "1     188  yes people recognize usually dont one first ob...   \n",
       "2      82  western media yup every crime entire world cau...   \n",
       "3     347  removed numbskull dont care say anymore life g...   \n",
       "4     539  smelly vagina bluerasberry dont model cheesy b...   \n",
       "\n",
       "                                          more_toxic  \n",
       "0  WHAT!!!!!!!!?!?!!?!?!!?!?!?!?!!!!!!!!!!!!!!!!!...  \n",
       "1   Daphne Guinness \\n\\nTop of the mornin' my fav...  \n",
       "2  \"Atom you don't believe actual photos of mastu...  \n",
       "3  You seem to have sand in your vagina.\\n\\nMight...  \n",
       "4           hey \\n\\nway to support nazis, you racist  "
      ]
     },
     "execution_count": 26,
     "metadata": {},
     "output_type": "execute_result"
    }
   ],
   "source": [
    "unrelevant_words = ['wiki','wikipedia','page']\n",
    "#Clean step 1, 2 and 3\n",
    "df_val['less_toxic'] = df_val['less_toxic'].apply(lambda x: ''.join([w for w in clean_text(x) if w not in unrelevant_words]))\n",
    "\n",
    "#Clean Step 4\n",
    "df_val['less_toxic'] = df_val['less_toxic'].apply(lambda x: ''.join([w for w in stopwords(x,stop_words)]))\n",
    "\n",
    "#Clean Step 5\n",
    "df_val['less_toxic'] = df_val['less_toxic'].apply(lambda x: ''.join([w for w in lemmatizer.lemmatize(x)]))\n",
    "\n",
    "df_val.head()"
   ]
  },
  {
   "cell_type": "code",
   "execution_count": 27,
   "id": "f2011772",
   "metadata": {
    "execution": {
     "iopub.execute_input": "2022-01-23T04:01:44.883636Z",
     "iopub.status.busy": "2022-01-23T04:01:44.882934Z",
     "iopub.status.idle": "2022-01-23T04:02:13.212254Z",
     "shell.execute_reply": "2022-01-23T04:02:13.211638Z",
     "shell.execute_reply.started": "2022-01-22T16:20:29.610154Z"
    },
    "papermill": {
     "duration": 28.400287,
     "end_time": "2022-01-23T04:02:13.212410",
     "exception": false,
     "start_time": "2022-01-23T04:01:44.812123",
     "status": "completed"
    },
    "tags": []
   },
   "outputs": [
    {
     "data": {
      "text/html": [
       "<div>\n",
       "<style scoped>\n",
       "    .dataframe tbody tr th:only-of-type {\n",
       "        vertical-align: middle;\n",
       "    }\n",
       "\n",
       "    .dataframe tbody tr th {\n",
       "        vertical-align: top;\n",
       "    }\n",
       "\n",
       "    .dataframe thead th {\n",
       "        text-align: right;\n",
       "    }\n",
       "</style>\n",
       "<table border=\"1\" class=\"dataframe\">\n",
       "  <thead>\n",
       "    <tr style=\"text-align: right;\">\n",
       "      <th></th>\n",
       "      <th>worker</th>\n",
       "      <th>less_toxic</th>\n",
       "      <th>more_toxic</th>\n",
       "    </tr>\n",
       "  </thead>\n",
       "  <tbody>\n",
       "    <tr>\n",
       "      <th>0</th>\n",
       "      <td>313</td>\n",
       "      <td>article sucks woo woo wooooooo</td>\n",
       "      <td>wher sexy pic gone main page put back</td>\n",
       "    </tr>\n",
       "    <tr>\n",
       "      <th>1</th>\n",
       "      <td>188</td>\n",
       "      <td>yes people recognize usually dont one first ob...</td>\n",
       "      <td>daphne guinness top mornin favourite alien lif...</td>\n",
       "    </tr>\n",
       "    <tr>\n",
       "      <th>2</th>\n",
       "      <td>82</td>\n",
       "      <td>western media yup every crime entire world cau...</td>\n",
       "      <td>atom dont believe actual photos masturbation s...</td>\n",
       "    </tr>\n",
       "    <tr>\n",
       "      <th>3</th>\n",
       "      <td>347</td>\n",
       "      <td>removed numbskull dont care say anymore life g...</td>\n",
       "      <td>seem sand vagina might want wash stinking hole...</td>\n",
       "    </tr>\n",
       "    <tr>\n",
       "      <th>4</th>\n",
       "      <td>539</td>\n",
       "      <td>smelly vagina bluerasberry dont model cheesy b...</td>\n",
       "      <td>hey way support nazis racist</td>\n",
       "    </tr>\n",
       "  </tbody>\n",
       "</table>\n",
       "</div>"
      ],
      "text/plain": [
       "   worker                                         less_toxic  \\\n",
       "0     313                     article sucks woo woo wooooooo   \n",
       "1     188  yes people recognize usually dont one first ob...   \n",
       "2      82  western media yup every crime entire world cau...   \n",
       "3     347  removed numbskull dont care say anymore life g...   \n",
       "4     539  smelly vagina bluerasberry dont model cheesy b...   \n",
       "\n",
       "                                          more_toxic  \n",
       "0              wher sexy pic gone main page put back  \n",
       "1  daphne guinness top mornin favourite alien lif...  \n",
       "2  atom dont believe actual photos masturbation s...  \n",
       "3  seem sand vagina might want wash stinking hole...  \n",
       "4                       hey way support nazis racist  "
      ]
     },
     "execution_count": 27,
     "metadata": {},
     "output_type": "execute_result"
    }
   ],
   "source": [
    "df_val['more_toxic'] = df_val['more_toxic'].apply(lambda x: ''.join([w for w in clean_text(x) if w not in unrelevant_words]))\n",
    "\n",
    "#Clean Step 4\n",
    "df_val['more_toxic'] = df_val['more_toxic'].apply(lambda x: ''.join([w for w in stopwords(x,stop_words)]))\n",
    "\n",
    "#Clean Step 5\n",
    "df_val['more_toxic'] = df_val['more_toxic'].apply(lambda x: ''.join([w for w in lemmatizer.lemmatize(x)]))\n",
    "\n",
    "df_val.head()"
   ]
  },
  {
   "cell_type": "code",
   "execution_count": 28,
   "id": "3bcd4bc1",
   "metadata": {
    "execution": {
     "iopub.execute_input": "2022-01-23T04:02:13.354778Z",
     "iopub.status.busy": "2022-01-23T04:02:13.354070Z",
     "iopub.status.idle": "2022-01-23T04:02:16.208847Z",
     "shell.execute_reply": "2022-01-23T04:02:16.208272Z",
     "shell.execute_reply.started": "2022-01-22T16:21:51.87693Z"
    },
    "papermill": {
     "duration": 2.929324,
     "end_time": "2022-01-23T04:02:16.209004",
     "exception": false,
     "start_time": "2022-01-23T04:02:13.279680",
     "status": "completed"
    },
    "tags": []
   },
   "outputs": [],
   "source": [
    "X_less_toxic = vec.transform(df_val['less_toxic'])\n",
    "X_more_toxic = vec.transform(df_val['more_toxic'])"
   ]
  },
  {
   "cell_type": "code",
   "execution_count": 29,
   "id": "361fbf70",
   "metadata": {
    "execution": {
     "iopub.execute_input": "2022-01-23T04:02:16.345486Z",
     "iopub.status.busy": "2022-01-23T04:02:16.344458Z",
     "iopub.status.idle": "2022-01-23T04:02:16.366781Z",
     "shell.execute_reply": "2022-01-23T04:02:16.367263Z",
     "shell.execute_reply.started": "2022-01-22T16:21:57.61543Z"
    },
    "papermill": {
     "duration": 0.092469,
     "end_time": "2022-01-23T04:02:16.367446",
     "exception": false,
     "start_time": "2022-01-23T04:02:16.274977",
     "status": "completed"
    },
    "tags": []
   },
   "outputs": [],
   "source": [
    "p1 = model.predict_proba(X_less_toxic)\n",
    "p2 = model.predict_proba(X_more_toxic)"
   ]
  },
  {
   "cell_type": "code",
   "execution_count": 30,
   "id": "8e47d2a9",
   "metadata": {
    "execution": {
     "iopub.execute_input": "2022-01-23T04:02:16.505598Z",
     "iopub.status.busy": "2022-01-23T04:02:16.504925Z",
     "iopub.status.idle": "2022-01-23T04:02:16.509985Z",
     "shell.execute_reply": "2022-01-23T04:02:16.510559Z",
     "shell.execute_reply.started": "2022-01-22T16:22:00.753099Z"
    },
    "papermill": {
     "duration": 0.076289,
     "end_time": "2022-01-23T04:02:16.510723",
     "exception": false,
     "start_time": "2022-01-23T04:02:16.434434",
     "status": "completed"
    },
    "tags": []
   },
   "outputs": [
    {
     "data": {
      "text/plain": [
       "0.665238474823967"
      ]
     },
     "execution_count": 30,
     "metadata": {},
     "output_type": "execute_result"
    }
   ],
   "source": [
    "(p1[:, 1] < p2[:, 1]).mean()"
   ]
  },
  {
   "cell_type": "code",
   "execution_count": 31,
   "id": "152b3796",
   "metadata": {
    "execution": {
     "iopub.execute_input": "2022-01-23T04:02:16.648091Z",
     "iopub.status.busy": "2022-01-23T04:02:16.646426Z",
     "iopub.status.idle": "2022-01-23T04:02:16.651161Z",
     "shell.execute_reply": "2022-01-23T04:02:16.650688Z",
     "shell.execute_reply.started": "2022-01-21T05:27:33.188197Z"
    },
    "papermill": {
     "duration": 0.07378,
     "end_time": "2022-01-23T04:02:16.651291",
     "exception": false,
     "start_time": "2022-01-23T04:02:16.577511",
     "status": "completed"
    },
    "tags": []
   },
   "outputs": [],
   "source": [
    "# # Create a score that messure how much toxic is a comment\n",
    "# random_score = {'obscene': 0.20, 'toxic': 0.40, 'threat': 0.6, \n",
    "#             'insult': 0.65, 'severe_toxic': 0.9, 'identity_hate': 0.9}\n",
    "\n",
    "# for category in random_score:\n",
    "#     df_train[category] = df_train[category] * random_score[category]\n",
    "\n",
    "# df_train['score'] = df_train.loc[:, 'toxic':'identity_hate'].mean(axis=1)\n",
    "# df_train['y'] = df_train['score']\n",
    "\n",
    "# min_len = (df_train['y'] > 0).sum()  # len of toxic comments\n",
    "# df_non_tox = df_train[df_train['y'] == 0].sample(n=min_len, random_state=201)  # take non toxic comments\n",
    "# df_train_new = pd.concat([df_train[df_train['y'] > 0], df_non_tox])  # make new df\n",
    "# df_train_new.head()\n"
   ]
  },
  {
   "cell_type": "code",
   "execution_count": 32,
   "id": "45464407",
   "metadata": {
    "execution": {
     "iopub.execute_input": "2022-01-23T04:02:16.790761Z",
     "iopub.status.busy": "2022-01-23T04:02:16.790112Z",
     "iopub.status.idle": "2022-01-23T04:02:16.792874Z",
     "shell.execute_reply": "2022-01-23T04:02:16.792283Z",
     "shell.execute_reply.started": "2022-01-21T05:49:23.326497Z"
    },
    "papermill": {
     "duration": 0.075039,
     "end_time": "2022-01-23T04:02:16.793012",
     "exception": false,
     "start_time": "2022-01-23T04:02:16.717973",
     "status": "completed"
    },
    "tags": []
   },
   "outputs": [],
   "source": [
    "# extracting the number of examples of each class\n",
    "# toxic_len = df_train_new[df_train_new['toxic'] >0].shape[0]\n",
    "# severe_toxic_len = df_train_new[df_train_new['severe_toxic'] >0].shape[0]\n",
    "# obscene_len = df_train_new[df_train_new['obscene'] >0].shape[0]\n",
    "# threat_len = df_train_new[df_train_new['threat'] >0].shape[0]\n",
    "# insult_len = df_train_new[df_train_new['insult'] >0].shape[0]\n",
    "# identity_hate_len = df_train_new[df_train_new['identity_hate'] >0].shape[0]\n"
   ]
  },
  {
   "cell_type": "code",
   "execution_count": null,
   "id": "6f56b4d1",
   "metadata": {
    "execution": {
     "iopub.execute_input": "2022-01-21T05:27:33.29289Z",
     "iopub.status.busy": "2022-01-21T05:27:33.291957Z",
     "iopub.status.idle": "2022-01-21T05:27:33.303558Z",
     "shell.execute_reply": "2022-01-21T05:27:33.302546Z",
     "shell.execute_reply.started": "2022-01-21T05:27:33.292824Z"
    },
    "papermill": {
     "duration": 0.066285,
     "end_time": "2022-01-23T04:02:16.927005",
     "exception": false,
     "start_time": "2022-01-23T04:02:16.860720",
     "status": "completed"
    },
    "tags": []
   },
   "outputs": [],
   "source": []
  },
  {
   "cell_type": "code",
   "execution_count": null,
   "id": "7e55488f",
   "metadata": {
    "execution": {
     "iopub.execute_input": "2022-01-21T05:27:42.333646Z",
     "iopub.status.busy": "2022-01-21T05:27:42.333454Z",
     "iopub.status.idle": "2022-01-21T05:27:42.346507Z",
     "shell.execute_reply": "2022-01-21T05:27:42.345545Z",
     "shell.execute_reply.started": "2022-01-21T05:27:42.333621Z"
    },
    "papermill": {
     "duration": 0.066206,
     "end_time": "2022-01-23T04:02:17.060052",
     "exception": false,
     "start_time": "2022-01-23T04:02:16.993846",
     "status": "completed"
    },
    "tags": []
   },
   "outputs": [],
   "source": []
  },
  {
   "cell_type": "code",
   "execution_count": null,
   "id": "643ad853",
   "metadata": {
    "execution": {
     "iopub.execute_input": "2022-01-21T05:27:42.348109Z",
     "iopub.status.busy": "2022-01-21T05:27:42.34783Z",
     "iopub.status.idle": "2022-01-21T05:27:51.206088Z",
     "shell.execute_reply": "2022-01-21T05:27:51.205055Z",
     "shell.execute_reply.started": "2022-01-21T05:27:42.348079Z"
    },
    "papermill": {
     "duration": 0.067174,
     "end_time": "2022-01-23T04:02:17.195134",
     "exception": false,
     "start_time": "2022-01-23T04:02:17.127960",
     "status": "completed"
    },
    "tags": []
   },
   "outputs": [],
   "source": []
  },
  {
   "cell_type": "code",
   "execution_count": null,
   "id": "21c3865d",
   "metadata": {
    "execution": {
     "iopub.execute_input": "2022-01-21T05:27:51.208804Z",
     "iopub.status.busy": "2022-01-21T05:27:51.208072Z",
     "iopub.status.idle": "2022-01-21T05:27:51.215538Z",
     "shell.execute_reply": "2022-01-21T05:27:51.214633Z",
     "shell.execute_reply.started": "2022-01-21T05:27:51.20876Z"
    },
    "papermill": {
     "duration": 0.066257,
     "end_time": "2022-01-23T04:02:17.329001",
     "exception": false,
     "start_time": "2022-01-23T04:02:17.262744",
     "status": "completed"
    },
    "tags": []
   },
   "outputs": [],
   "source": []
  },
  {
   "cell_type": "code",
   "execution_count": null,
   "id": "69e9e67e",
   "metadata": {
    "execution": {
     "iopub.execute_input": "2022-01-21T05:27:51.217012Z",
     "iopub.status.busy": "2022-01-21T05:27:51.216735Z",
     "iopub.status.idle": "2022-01-21T05:27:51.229787Z",
     "shell.execute_reply": "2022-01-21T05:27:51.22883Z",
     "shell.execute_reply.started": "2022-01-21T05:27:51.216981Z"
    },
    "papermill": {
     "duration": 0.066296,
     "end_time": "2022-01-23T04:02:17.462025",
     "exception": false,
     "start_time": "2022-01-23T04:02:17.395729",
     "status": "completed"
    },
    "tags": []
   },
   "outputs": [],
   "source": []
  },
  {
   "cell_type": "code",
   "execution_count": null,
   "id": "4f320735",
   "metadata": {
    "execution": {
     "iopub.execute_input": "2022-01-21T05:27:51.231567Z",
     "iopub.status.busy": "2022-01-21T05:27:51.231305Z",
     "iopub.status.idle": "2022-01-21T05:27:51.24754Z",
     "shell.execute_reply": "2022-01-21T05:27:51.246572Z",
     "shell.execute_reply.started": "2022-01-21T05:27:51.231537Z"
    },
    "papermill": {
     "duration": 0.06651,
     "end_time": "2022-01-23T04:02:17.596219",
     "exception": false,
     "start_time": "2022-01-23T04:02:17.529709",
     "status": "completed"
    },
    "tags": []
   },
   "outputs": [],
   "source": []
  },
  {
   "cell_type": "code",
   "execution_count": null,
   "id": "6e6addcd",
   "metadata": {
    "execution": {
     "iopub.execute_input": "2022-01-21T05:27:51.251579Z",
     "iopub.status.busy": "2022-01-21T05:27:51.251308Z",
     "iopub.status.idle": "2022-01-21T05:27:51.263487Z",
     "shell.execute_reply": "2022-01-21T05:27:51.262769Z",
     "shell.execute_reply.started": "2022-01-21T05:27:51.251545Z"
    },
    "papermill": {
     "duration": 0.066308,
     "end_time": "2022-01-23T04:02:17.728882",
     "exception": false,
     "start_time": "2022-01-23T04:02:17.662574",
     "status": "completed"
    },
    "tags": []
   },
   "outputs": [],
   "source": []
  },
  {
   "cell_type": "code",
   "execution_count": null,
   "id": "cf78a917",
   "metadata": {
    "execution": {
     "iopub.execute_input": "2022-01-21T05:27:51.265102Z",
     "iopub.status.busy": "2022-01-21T05:27:51.264853Z",
     "iopub.status.idle": "2022-01-21T05:27:51.281478Z",
     "shell.execute_reply": "2022-01-21T05:27:51.280328Z",
     "shell.execute_reply.started": "2022-01-21T05:27:51.265072Z"
    },
    "papermill": {
     "duration": 0.066258,
     "end_time": "2022-01-23T04:02:17.861555",
     "exception": false,
     "start_time": "2022-01-23T04:02:17.795297",
     "status": "completed"
    },
    "tags": []
   },
   "outputs": [],
   "source": []
  },
  {
   "cell_type": "code",
   "execution_count": null,
   "id": "94aebab8",
   "metadata": {
    "execution": {
     "iopub.execute_input": "2022-01-21T05:27:51.283406Z",
     "iopub.status.busy": "2022-01-21T05:27:51.283156Z",
     "iopub.status.idle": "2022-01-21T05:27:51.293854Z",
     "shell.execute_reply": "2022-01-21T05:27:51.293069Z",
     "shell.execute_reply.started": "2022-01-21T05:27:51.283376Z"
    },
    "papermill": {
     "duration": 0.067107,
     "end_time": "2022-01-23T04:02:17.994960",
     "exception": false,
     "start_time": "2022-01-23T04:02:17.927853",
     "status": "completed"
    },
    "tags": []
   },
   "outputs": [],
   "source": []
  },
  {
   "cell_type": "code",
   "execution_count": null,
   "id": "8665c2a1",
   "metadata": {
    "execution": {
     "iopub.execute_input": "2022-01-21T05:27:51.29523Z",
     "iopub.status.busy": "2022-01-21T05:27:51.295006Z",
     "iopub.status.idle": "2022-01-21T05:27:51.307253Z",
     "shell.execute_reply": "2022-01-21T05:27:51.305948Z",
     "shell.execute_reply.started": "2022-01-21T05:27:51.295202Z"
    },
    "papermill": {
     "duration": 0.066902,
     "end_time": "2022-01-23T04:02:18.129556",
     "exception": false,
     "start_time": "2022-01-23T04:02:18.062654",
     "status": "completed"
    },
    "tags": []
   },
   "outputs": [],
   "source": []
  },
  {
   "cell_type": "code",
   "execution_count": null,
   "id": "8bfd2ba5",
   "metadata": {
    "execution": {
     "iopub.execute_input": "2022-01-21T05:36:09.835611Z",
     "iopub.status.busy": "2022-01-21T05:36:09.835296Z",
     "iopub.status.idle": "2022-01-21T05:36:12.877232Z",
     "shell.execute_reply": "2022-01-21T05:36:12.875667Z",
     "shell.execute_reply.started": "2022-01-21T05:36:09.83558Z"
    },
    "papermill": {
     "duration": 0.066742,
     "end_time": "2022-01-23T04:02:18.263222",
     "exception": false,
     "start_time": "2022-01-23T04:02:18.196480",
     "status": "completed"
    },
    "tags": []
   },
   "outputs": [],
   "source": []
  }
 ],
 "metadata": {
  "kernelspec": {
   "display_name": "Python 3",
   "language": "python",
   "name": "python3"
  },
  "language_info": {
   "codemirror_mode": {
    "name": "ipython",
    "version": 3
   },
   "file_extension": ".py",
   "mimetype": "text/x-python",
   "name": "python",
   "nbconvert_exporter": "python",
   "pygments_lexer": "ipython3",
   "version": "3.7.12"
  },
  "papermill": {
   "default_parameters": {},
   "duration": 267.259242,
   "end_time": "2022-01-23T04:02:19.342512",
   "environment_variables": {},
   "exception": null,
   "input_path": "__notebook__.ipynb",
   "output_path": "__notebook__.ipynb",
   "parameters": {},
   "start_time": "2022-01-23T03:57:52.083270",
   "version": "2.3.3"
  }
 },
 "nbformat": 4,
 "nbformat_minor": 5
}
